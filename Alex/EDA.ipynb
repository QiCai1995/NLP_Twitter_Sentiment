{
 "cells": [
  {
   "cell_type": "markdown",
   "metadata": {},
   "source": [
    "## Final Project Submission\n",
    "\n",
    "Please fill out:\n",
    "* Student name: \n",
    "* Student pace: self paced / part time / full time\n",
    "* Scheduled project review date/time: \n",
    "* Instructor name: \n",
    "* Blog post URL:\n"
   ]
  },
  {
   "cell_type": "code",
   "execution_count": 1,
   "metadata": {},
   "outputs": [],
   "source": [
    "# Your code here - remember to use markdown cells for comments as well!"
   ]
  },
  {
   "cell_type": "markdown",
   "metadata": {},
   "source": [
    "**imports**"
   ]
  },
  {
   "cell_type": "code",
   "execution_count": 131,
   "metadata": {
    "scrolled": true
   },
   "outputs": [
    {
     "name": "stderr",
     "output_type": "stream",
     "text": [
      "[nltk_data] Downloading package wordnet to\n",
      "[nltk_data]     C:\\Users\\16047\\AppData\\Roaming\\nltk_data...\n",
      "[nltk_data]   Package wordnet is already up-to-date!\n",
      "[nltk_data] Downloading package stopwords to\n",
      "[nltk_data]     C:\\Users\\16047\\AppData\\Roaming\\nltk_data...\n",
      "[nltk_data]   Package stopwords is already up-to-date!\n"
     ]
    },
    {
     "ename": "ModuleNotFoundError",
     "evalue": "No module named 'wordcloud'",
     "output_type": "error",
     "traceback": [
      "\u001b[1;31m---------------------------------------------------------------------------\u001b[0m",
      "\u001b[1;31mModuleNotFoundError\u001b[0m                       Traceback (most recent call last)",
      "\u001b[1;32m<ipython-input-131-5a3a19159ffb>\u001b[0m in \u001b[0;36m<module>\u001b[1;34m\u001b[0m\n\u001b[0;32m     39\u001b[0m \u001b[1;32mfrom\u001b[0m \u001b[0mnltk\u001b[0m\u001b[1;33m.\u001b[0m\u001b[0mstem\u001b[0m\u001b[1;33m.\u001b[0m\u001b[0mwordnet\u001b[0m \u001b[1;32mimport\u001b[0m \u001b[0mWordNetLemmatizer\u001b[0m\u001b[1;33m\u001b[0m\u001b[1;33m\u001b[0m\u001b[0m\n\u001b[0;32m     40\u001b[0m \u001b[1;33m\u001b[0m\u001b[0m\n\u001b[1;32m---> 41\u001b[1;33m \u001b[1;32mfrom\u001b[0m \u001b[0mwordcloud\u001b[0m \u001b[1;32mimport\u001b[0m \u001b[0mWordCloud\u001b[0m\u001b[1;33m\u001b[0m\u001b[1;33m\u001b[0m\u001b[0m\n\u001b[0m\u001b[0;32m     42\u001b[0m \u001b[1;33m\u001b[0m\u001b[0m\n\u001b[0;32m     43\u001b[0m \u001b[1;32mimport\u001b[0m \u001b[0mPIL\u001b[0m\u001b[1;33m\u001b[0m\u001b[1;33m\u001b[0m\u001b[0m\n",
      "\u001b[1;31mModuleNotFoundError\u001b[0m: No module named 'wordcloud'"
     ]
    }
   ],
   "source": [
    "import pandas as pd\n",
    "import numpy as np\n",
    "\n",
    "import re\n",
    "import nltk\n",
    "from nltk.corpus import stopwords\n",
    "from nltk.stem import WordNetLemmatizer\n",
    "from nltk.tokenize import TweetTokenizer\n",
    "\n",
    "import nltk\n",
    "nltk.download('wordnet')\n",
    "nltk.download('stopwords')\n",
    "\n",
    "\n",
    "from sklearn.feature_extraction.text import TfidfVectorizer\n",
    "from sklearn.model_selection import train_test_split\n",
    "from sklearn.tree import DecisionTreeClassifier\n",
    "from sklearn.metrics import classification_report\n",
    "from sklearn.feature_extraction.text import TfidfVectorizer\n",
    "from sklearn.naive_bayes import MultinomialNB\n",
    "from sklearn.pipeline import Pipeline\n",
    "\n",
    "from sklearn.neighbors import KNeighborsClassifier\n",
    "from sklearn.metrics import accuracy_score\n",
    "from sklearn.preprocessing import LabelEncoder\n",
    "\n",
    "from imblearn.over_sampling import SMOTE\n",
    "from imblearn.combine import SMOTEENN\n",
    "from imblearn.under_sampling import EditedNearestNeighbours\n",
    "\n",
    "\n",
    "import matplotlib.pyplot as plt\n",
    "import seaborn as sns\n",
    "import nltk\n",
    "from nltk.tokenize import TweetTokenizer\n",
    "import string\n",
    "from nltk import FreqDist\n",
    "from nltk.corpus import stopwords\n",
    "from nltk.stem.wordnet import WordNetLemmatizer\n",
    "\n",
    "from wordcloud import WordCloud\n",
    "\n",
    "import PIL\n",
    "from PIL import Image, ImageDraw, ImageFont"
   ]
  },
  {
   "cell_type": "markdown",
   "metadata": {},
   "source": [
    "**Import DATA**"
   ]
  },
  {
   "cell_type": "code",
   "execution_count": 3,
   "metadata": {
    "scrolled": true
   },
   "outputs": [],
   "source": [
    "df = pd.read_csv(\"..\\Data/judge_tweet_company.csv\", encoding= 'unicode_escape')"
   ]
  },
  {
   "cell_type": "code",
   "execution_count": 4,
   "metadata": {
    "scrolled": true
   },
   "outputs": [
    {
     "data": {
      "text/html": [
       "<div>\n",
       "<style scoped>\n",
       "    .dataframe tbody tr th:only-of-type {\n",
       "        vertical-align: middle;\n",
       "    }\n",
       "\n",
       "    .dataframe tbody tr th {\n",
       "        vertical-align: top;\n",
       "    }\n",
       "\n",
       "    .dataframe thead th {\n",
       "        text-align: right;\n",
       "    }\n",
       "</style>\n",
       "<table border=\"1\" class=\"dataframe\">\n",
       "  <thead>\n",
       "    <tr style=\"text-align: right;\">\n",
       "      <th></th>\n",
       "      <th>tweet_text</th>\n",
       "      <th>emotion_in_tweet_is_directed_at</th>\n",
       "      <th>is_there_an_emotion_directed_at_a_brand_or_product</th>\n",
       "    </tr>\n",
       "  </thead>\n",
       "  <tbody>\n",
       "    <tr>\n",
       "      <th>0</th>\n",
       "      <td>.@wesley83 I have a 3G iPhone. After 3 hrs twe...</td>\n",
       "      <td>iPhone</td>\n",
       "      <td>Negative emotion</td>\n",
       "    </tr>\n",
       "    <tr>\n",
       "      <th>1</th>\n",
       "      <td>@jessedee Know about @fludapp ? Awesome iPad/i...</td>\n",
       "      <td>iPad or iPhone App</td>\n",
       "      <td>Positive emotion</td>\n",
       "    </tr>\n",
       "    <tr>\n",
       "      <th>2</th>\n",
       "      <td>@swonderlin Can not wait for #iPad 2 also. The...</td>\n",
       "      <td>iPad</td>\n",
       "      <td>Positive emotion</td>\n",
       "    </tr>\n",
       "    <tr>\n",
       "      <th>3</th>\n",
       "      <td>@sxsw I hope this year's festival isn't as cra...</td>\n",
       "      <td>iPad or iPhone App</td>\n",
       "      <td>Negative emotion</td>\n",
       "    </tr>\n",
       "    <tr>\n",
       "      <th>4</th>\n",
       "      <td>@sxtxstate great stuff on Fri #SXSW: Marissa M...</td>\n",
       "      <td>Google</td>\n",
       "      <td>Positive emotion</td>\n",
       "    </tr>\n",
       "  </tbody>\n",
       "</table>\n",
       "</div>"
      ],
      "text/plain": [
       "                                          tweet_text  \\\n",
       "0  .@wesley83 I have a 3G iPhone. After 3 hrs twe...   \n",
       "1  @jessedee Know about @fludapp ? Awesome iPad/i...   \n",
       "2  @swonderlin Can not wait for #iPad 2 also. The...   \n",
       "3  @sxsw I hope this year's festival isn't as cra...   \n",
       "4  @sxtxstate great stuff on Fri #SXSW: Marissa M...   \n",
       "\n",
       "  emotion_in_tweet_is_directed_at  \\\n",
       "0                          iPhone   \n",
       "1              iPad or iPhone App   \n",
       "2                            iPad   \n",
       "3              iPad or iPhone App   \n",
       "4                          Google   \n",
       "\n",
       "  is_there_an_emotion_directed_at_a_brand_or_product  \n",
       "0                                   Negative emotion  \n",
       "1                                   Positive emotion  \n",
       "2                                   Positive emotion  \n",
       "3                                   Negative emotion  \n",
       "4                                   Positive emotion  "
      ]
     },
     "execution_count": 4,
     "metadata": {},
     "output_type": "execute_result"
    }
   ],
   "source": [
    "df.head()"
   ]
  },
  {
   "cell_type": "markdown",
   "metadata": {},
   "source": [
    "**Data Cleaning**"
   ]
  },
  {
   "cell_type": "code",
   "execution_count": 5,
   "metadata": {},
   "outputs": [],
   "source": [
    "df = df.rename(columns={'tweet_text': 'tweet', 'emotion_in_tweet_is_directed_at': 'product_or_company', 'is_there_an_emotion_directed_at_a_brand_or_product': 'emotion_detected'} )"
   ]
  },
  {
   "cell_type": "code",
   "execution_count": 6,
   "metadata": {
    "scrolled": true
   },
   "outputs": [
    {
     "data": {
      "text/html": [
       "<div>\n",
       "<style scoped>\n",
       "    .dataframe tbody tr th:only-of-type {\n",
       "        vertical-align: middle;\n",
       "    }\n",
       "\n",
       "    .dataframe tbody tr th {\n",
       "        vertical-align: top;\n",
       "    }\n",
       "\n",
       "    .dataframe thead th {\n",
       "        text-align: right;\n",
       "    }\n",
       "</style>\n",
       "<table border=\"1\" class=\"dataframe\">\n",
       "  <thead>\n",
       "    <tr style=\"text-align: right;\">\n",
       "      <th></th>\n",
       "      <th>tweet</th>\n",
       "      <th>product_or_company</th>\n",
       "      <th>emotion_detected</th>\n",
       "    </tr>\n",
       "  </thead>\n",
       "  <tbody>\n",
       "    <tr>\n",
       "      <th>0</th>\n",
       "      <td>.@wesley83 I have a 3G iPhone. After 3 hrs twe...</td>\n",
       "      <td>iPhone</td>\n",
       "      <td>Negative emotion</td>\n",
       "    </tr>\n",
       "    <tr>\n",
       "      <th>1</th>\n",
       "      <td>@jessedee Know about @fludapp ? Awesome iPad/i...</td>\n",
       "      <td>iPad or iPhone App</td>\n",
       "      <td>Positive emotion</td>\n",
       "    </tr>\n",
       "    <tr>\n",
       "      <th>2</th>\n",
       "      <td>@swonderlin Can not wait for #iPad 2 also. The...</td>\n",
       "      <td>iPad</td>\n",
       "      <td>Positive emotion</td>\n",
       "    </tr>\n",
       "    <tr>\n",
       "      <th>3</th>\n",
       "      <td>@sxsw I hope this year's festival isn't as cra...</td>\n",
       "      <td>iPad or iPhone App</td>\n",
       "      <td>Negative emotion</td>\n",
       "    </tr>\n",
       "    <tr>\n",
       "      <th>4</th>\n",
       "      <td>@sxtxstate great stuff on Fri #SXSW: Marissa M...</td>\n",
       "      <td>Google</td>\n",
       "      <td>Positive emotion</td>\n",
       "    </tr>\n",
       "  </tbody>\n",
       "</table>\n",
       "</div>"
      ],
      "text/plain": [
       "                                               tweet  product_or_company  \\\n",
       "0  .@wesley83 I have a 3G iPhone. After 3 hrs twe...              iPhone   \n",
       "1  @jessedee Know about @fludapp ? Awesome iPad/i...  iPad or iPhone App   \n",
       "2  @swonderlin Can not wait for #iPad 2 also. The...                iPad   \n",
       "3  @sxsw I hope this year's festival isn't as cra...  iPad or iPhone App   \n",
       "4  @sxtxstate great stuff on Fri #SXSW: Marissa M...              Google   \n",
       "\n",
       "   emotion_detected  \n",
       "0  Negative emotion  \n",
       "1  Positive emotion  \n",
       "2  Positive emotion  \n",
       "3  Negative emotion  \n",
       "4  Positive emotion  "
      ]
     },
     "execution_count": 6,
     "metadata": {},
     "output_type": "execute_result"
    }
   ],
   "source": [
    "df.head()"
   ]
  },
  {
   "cell_type": "code",
   "execution_count": null,
   "metadata": {},
   "outputs": [],
   "source": []
  },
  {
   "cell_type": "code",
   "execution_count": null,
   "metadata": {},
   "outputs": [],
   "source": []
  },
  {
   "cell_type": "code",
   "execution_count": 8,
   "metadata": {
    "scrolled": true
   },
   "outputs": [
    {
     "data": {
      "text/plain": [
       "No emotion toward brand or product    5389\n",
       "Positive emotion                      2978\n",
       "Negative emotion                       570\n",
       "I can't tell                           156\n",
       "Name: emotion_detected, dtype: int64"
      ]
     },
     "execution_count": 8,
     "metadata": {},
     "output_type": "execute_result"
    }
   ],
   "source": [
    "df['emotion_detected'].value_counts()"
   ]
  },
  {
   "cell_type": "code",
   "execution_count": null,
   "metadata": {},
   "outputs": [],
   "source": []
  },
  {
   "cell_type": "code",
   "execution_count": 70,
   "metadata": {},
   "outputs": [],
   "source": [
    "emotion_dict={'No emotion toward brand or product': 'Neutral', \n",
    "              'Positive emotion': 'Positive',\n",
    "              'Negative emotion': 'Negative', \n",
    "              'I can\\t tell': 'Unknown'}"
   ]
  },
  {
   "cell_type": "code",
   "execution_count": 71,
   "metadata": {},
   "outputs": [],
   "source": [
    "df['emotion_detected'] = df['emotion_detected'].map(emotion_dict)"
   ]
  },
  {
   "cell_type": "code",
   "execution_count": 72,
   "metadata": {},
   "outputs": [
    {
     "data": {
      "text/html": [
       "<div>\n",
       "<style scoped>\n",
       "    .dataframe tbody tr th:only-of-type {\n",
       "        vertical-align: middle;\n",
       "    }\n",
       "\n",
       "    .dataframe tbody tr th {\n",
       "        vertical-align: top;\n",
       "    }\n",
       "\n",
       "    .dataframe thead th {\n",
       "        text-align: right;\n",
       "    }\n",
       "</style>\n",
       "<table border=\"1\" class=\"dataframe\">\n",
       "  <thead>\n",
       "    <tr style=\"text-align: right;\">\n",
       "      <th></th>\n",
       "      <th>tweet</th>\n",
       "      <th>product_or_company</th>\n",
       "      <th>emotion_detected</th>\n",
       "      <th>cleaned_text</th>\n",
       "      <th>company</th>\n",
       "    </tr>\n",
       "  </thead>\n",
       "  <tbody>\n",
       "    <tr>\n",
       "      <th>0</th>\n",
       "      <td>.@wesley83 I have a 3G iPhone. After 3 hrs twe...</td>\n",
       "      <td>iPhone</td>\n",
       "      <td>Negative</td>\n",
       "      <td>wesley g iphone hr tweeting rise_austin dead n...</td>\n",
       "      <td>iPhone</td>\n",
       "    </tr>\n",
       "    <tr>\n",
       "      <th>1</th>\n",
       "      <td>@jessedee Know about @fludapp ? Awesome iPad/i...</td>\n",
       "      <td>iPad or iPhone App</td>\n",
       "      <td>Positive</td>\n",
       "      <td>jessedee know fludapp awesome ipadiphone app y...</td>\n",
       "      <td>iPad or iPhone App</td>\n",
       "    </tr>\n",
       "    <tr>\n",
       "      <th>2</th>\n",
       "      <td>@swonderlin Can not wait for #iPad 2 also. The...</td>\n",
       "      <td>iPad</td>\n",
       "      <td>Positive</td>\n",
       "      <td>swonderlin wait ipad also sale sxsw</td>\n",
       "      <td>iPad</td>\n",
       "    </tr>\n",
       "    <tr>\n",
       "      <th>3</th>\n",
       "      <td>@sxsw I hope this year's festival isn't as cra...</td>\n",
       "      <td>iPad or iPhone App</td>\n",
       "      <td>Negative</td>\n",
       "      <td>sxsw hope year festival isnt crashy year iphon...</td>\n",
       "      <td>iPad or iPhone App</td>\n",
       "    </tr>\n",
       "    <tr>\n",
       "      <th>4</th>\n",
       "      <td>@sxtxstate great stuff on Fri #SXSW: Marissa M...</td>\n",
       "      <td>Google</td>\n",
       "      <td>Positive</td>\n",
       "      <td>sxtxstate great stuff fri sxsw marissa mayer g...</td>\n",
       "      <td>Google</td>\n",
       "    </tr>\n",
       "    <tr>\n",
       "      <th>5</th>\n",
       "      <td>@teachntech00 New iPad Apps For #SpeechTherapy...</td>\n",
       "      <td>ipad</td>\n",
       "      <td>Neutral</td>\n",
       "      <td>teachntech new ipad apps speechtherapy communi...</td>\n",
       "      <td>ipad</td>\n",
       "    </tr>\n",
       "    <tr>\n",
       "      <th>6</th>\n",
       "      <td>NaN</td>\n",
       "      <td>NaN</td>\n",
       "      <td>Neutral</td>\n",
       "      <td></td>\n",
       "      <td>NaN</td>\n",
       "    </tr>\n",
       "    <tr>\n",
       "      <th>7</th>\n",
       "      <td>#SXSW is just starting, #CTIA is around the co...</td>\n",
       "      <td>Android</td>\n",
       "      <td>Positive</td>\n",
       "      <td>sxsw starting ctia around corner googleio hop ...</td>\n",
       "      <td>Android</td>\n",
       "    </tr>\n",
       "    <tr>\n",
       "      <th>8</th>\n",
       "      <td>Beautifully smart and simple idea RT @madebyma...</td>\n",
       "      <td>iPad or iPhone App</td>\n",
       "      <td>Positive</td>\n",
       "      <td>beautifully smart simple idea rt madebymany th...</td>\n",
       "      <td>iPad or iPhone App</td>\n",
       "    </tr>\n",
       "    <tr>\n",
       "      <th>9</th>\n",
       "      <td>Counting down the days to #sxsw plus strong Ca...</td>\n",
       "      <td>Apple</td>\n",
       "      <td>Positive</td>\n",
       "      <td>counting day sxsw plus strong canadian dollar ...</td>\n",
       "      <td>Apple</td>\n",
       "    </tr>\n",
       "  </tbody>\n",
       "</table>\n",
       "</div>"
      ],
      "text/plain": [
       "                                               tweet  product_or_company  \\\n",
       "0  .@wesley83 I have a 3G iPhone. After 3 hrs twe...              iPhone   \n",
       "1  @jessedee Know about @fludapp ? Awesome iPad/i...  iPad or iPhone App   \n",
       "2  @swonderlin Can not wait for #iPad 2 also. The...                iPad   \n",
       "3  @sxsw I hope this year's festival isn't as cra...  iPad or iPhone App   \n",
       "4  @sxtxstate great stuff on Fri #SXSW: Marissa M...              Google   \n",
       "5  @teachntech00 New iPad Apps For #SpeechTherapy...                ipad   \n",
       "6                                                NaN                 NaN   \n",
       "7  #SXSW is just starting, #CTIA is around the co...             Android   \n",
       "8  Beautifully smart and simple idea RT @madebyma...  iPad or iPhone App   \n",
       "9  Counting down the days to #sxsw plus strong Ca...               Apple   \n",
       "\n",
       "  emotion_detected                                       cleaned_text  \\\n",
       "0         Negative  wesley g iphone hr tweeting rise_austin dead n...   \n",
       "1         Positive  jessedee know fludapp awesome ipadiphone app y...   \n",
       "2         Positive                swonderlin wait ipad also sale sxsw   \n",
       "3         Negative  sxsw hope year festival isnt crashy year iphon...   \n",
       "4         Positive  sxtxstate great stuff fri sxsw marissa mayer g...   \n",
       "5          Neutral  teachntech new ipad apps speechtherapy communi...   \n",
       "6          Neutral                                                      \n",
       "7         Positive  sxsw starting ctia around corner googleio hop ...   \n",
       "8         Positive  beautifully smart simple idea rt madebymany th...   \n",
       "9         Positive  counting day sxsw plus strong canadian dollar ...   \n",
       "\n",
       "              company  \n",
       "0              iPhone  \n",
       "1  iPad or iPhone App  \n",
       "2                iPad  \n",
       "3  iPad or iPhone App  \n",
       "4              Google  \n",
       "5                ipad  \n",
       "6                 NaN  \n",
       "7             Android  \n",
       "8  iPad or iPhone App  \n",
       "9               Apple  "
      ]
     },
     "execution_count": 72,
     "metadata": {},
     "output_type": "execute_result"
    }
   ],
   "source": [
    "df.head(10)"
   ]
  },
  {
   "cell_type": "code",
   "execution_count": 73,
   "metadata": {},
   "outputs": [
    {
     "data": {
      "text/plain": [
       "Neutral     5389\n",
       "Positive    2978\n",
       "Negative     570\n",
       "Name: emotion_detected, dtype: int64"
      ]
     },
     "execution_count": 73,
     "metadata": {},
     "output_type": "execute_result"
    }
   ],
   "source": [
    "df['emotion_detected'].value_counts()"
   ]
  },
  {
   "cell_type": "code",
   "execution_count": null,
   "metadata": {},
   "outputs": [],
   "source": []
  },
  {
   "cell_type": "markdown",
   "metadata": {},
   "source": [
    "**Need to clean text to further clean rest of data**"
   ]
  },
  {
   "cell_type": "code",
   "execution_count": 47,
   "metadata": {},
   "outputs": [],
   "source": [
    "def clean_text(tweet):\n",
    "    if isinstance(tweet, str):  \n",
    "        tweet = tweet.lower()\n",
    "    \n",
    "  \n",
    "        tweet = re.sub(r\"http\\S+|www\\S+|https\\S+\", \"\", tweet, flags=re.MULTILINE)\n",
    "    \n",
    "  \n",
    "        tweet = re.sub(r\"[^\\w\\s]\", \"\", tweet)\n",
    "        tweet = re.sub(r\"\\d+\", \"\", tweet)\n",
    "    \n",
    "   \n",
    "        tokenizer = TweetTokenizer()\n",
    "        tokens = tokenizer.tokenize(tweet)\n",
    "    \n",
    "    \n",
    "        stop_words = set(stopwords.words('english'))\n",
    "        tokens = [token for token in tokens if token not in stop_words]\n",
    "    \n",
    "    \n",
    "        lemmatizer = WordNetLemmatizer()\n",
    "        tokens = [lemmatizer.lemmatize(token) for token in tokens]\n",
    "  \n",
    "    \n",
    "        clean_text = \" \".join(tokens)\n",
    "    \n",
    "    \n",
    "        return clean_text\n",
    "\n",
    "        "
   ]
  },
  {
   "cell_type": "code",
   "execution_count": null,
   "metadata": {},
   "outputs": [],
   "source": []
  },
  {
   "cell_type": "code",
   "execution_count": 48,
   "metadata": {},
   "outputs": [],
   "source": [
    "df[\"cleaned_text\"] = df[\"tweet\"].apply(clean_text)"
   ]
  },
  {
   "cell_type": "code",
   "execution_count": 53,
   "metadata": {},
   "outputs": [],
   "source": [
    "df[\"cleaned_text\"] = df[\"cleaned_text\"].fillna(\"\")"
   ]
  },
  {
   "cell_type": "code",
   "execution_count": 49,
   "metadata": {},
   "outputs": [
    {
     "data": {
      "text/html": [
       "<div>\n",
       "<style scoped>\n",
       "    .dataframe tbody tr th:only-of-type {\n",
       "        vertical-align: middle;\n",
       "    }\n",
       "\n",
       "    .dataframe tbody tr th {\n",
       "        vertical-align: top;\n",
       "    }\n",
       "\n",
       "    .dataframe thead th {\n",
       "        text-align: right;\n",
       "    }\n",
       "</style>\n",
       "<table border=\"1\" class=\"dataframe\">\n",
       "  <thead>\n",
       "    <tr style=\"text-align: right;\">\n",
       "      <th></th>\n",
       "      <th>tweet</th>\n",
       "      <th>product_or_company</th>\n",
       "      <th>emotion_detected</th>\n",
       "      <th>cleaned_text</th>\n",
       "      <th>company</th>\n",
       "    </tr>\n",
       "  </thead>\n",
       "  <tbody>\n",
       "    <tr>\n",
       "      <th>0</th>\n",
       "      <td>.@wesley83 I have a 3G iPhone. After 3 hrs twe...</td>\n",
       "      <td>iPhone</td>\n",
       "      <td>Negative emotion</td>\n",
       "      <td>wesley g iphone hr tweeting rise_austin dead n...</td>\n",
       "      <td>iPhone</td>\n",
       "    </tr>\n",
       "    <tr>\n",
       "      <th>1</th>\n",
       "      <td>@jessedee Know about @fludapp ? Awesome iPad/i...</td>\n",
       "      <td>iPad or iPhone App</td>\n",
       "      <td>Positive emotion</td>\n",
       "      <td>jessedee know fludapp awesome ipadiphone app y...</td>\n",
       "      <td>iPad or iPhone App</td>\n",
       "    </tr>\n",
       "    <tr>\n",
       "      <th>2</th>\n",
       "      <td>@swonderlin Can not wait for #iPad 2 also. The...</td>\n",
       "      <td>iPad</td>\n",
       "      <td>Positive emotion</td>\n",
       "      <td>swonderlin wait ipad also sale sxsw</td>\n",
       "      <td>iPad</td>\n",
       "    </tr>\n",
       "    <tr>\n",
       "      <th>3</th>\n",
       "      <td>@sxsw I hope this year's festival isn't as cra...</td>\n",
       "      <td>iPad or iPhone App</td>\n",
       "      <td>Negative emotion</td>\n",
       "      <td>sxsw hope year festival isnt crashy year iphon...</td>\n",
       "      <td>iPad or iPhone App</td>\n",
       "    </tr>\n",
       "    <tr>\n",
       "      <th>4</th>\n",
       "      <td>@sxtxstate great stuff on Fri #SXSW: Marissa M...</td>\n",
       "      <td>Google</td>\n",
       "      <td>Positive emotion</td>\n",
       "      <td>sxtxstate great stuff fri sxsw marissa mayer g...</td>\n",
       "      <td>Google</td>\n",
       "    </tr>\n",
       "  </tbody>\n",
       "</table>\n",
       "</div>"
      ],
      "text/plain": [
       "                                               tweet  product_or_company  \\\n",
       "0  .@wesley83 I have a 3G iPhone. After 3 hrs twe...              iPhone   \n",
       "1  @jessedee Know about @fludapp ? Awesome iPad/i...  iPad or iPhone App   \n",
       "2  @swonderlin Can not wait for #iPad 2 also. The...                iPad   \n",
       "3  @sxsw I hope this year's festival isn't as cra...  iPad or iPhone App   \n",
       "4  @sxtxstate great stuff on Fri #SXSW: Marissa M...              Google   \n",
       "\n",
       "   emotion_detected                                       cleaned_text  \\\n",
       "0  Negative emotion  wesley g iphone hr tweeting rise_austin dead n...   \n",
       "1  Positive emotion  jessedee know fludapp awesome ipadiphone app y...   \n",
       "2  Positive emotion                swonderlin wait ipad also sale sxsw   \n",
       "3  Negative emotion  sxsw hope year festival isnt crashy year iphon...   \n",
       "4  Positive emotion  sxtxstate great stuff fri sxsw marissa mayer g...   \n",
       "\n",
       "              company  \n",
       "0              iPhone  \n",
       "1  iPad or iPhone App  \n",
       "2                iPad  \n",
       "3  iPad or iPhone App  \n",
       "4              Google  "
      ]
     },
     "execution_count": 49,
     "metadata": {},
     "output_type": "execute_result"
    }
   ],
   "source": [
    "df.head()"
   ]
  },
  {
   "cell_type": "code",
   "execution_count": null,
   "metadata": {},
   "outputs": [],
   "source": []
  },
  {
   "cell_type": "code",
   "execution_count": null,
   "metadata": {},
   "outputs": [],
   "source": []
  },
  {
   "cell_type": "code",
   "execution_count": 50,
   "metadata": {
    "scrolled": false
   },
   "outputs": [
    {
     "data": {
      "text/plain": [
       "tweet                   1\n",
       "product_or_company    765\n",
       "emotion_detected        0\n",
       "cleaned_text            1\n",
       "company               765\n",
       "dtype: int64"
      ]
     },
     "execution_count": 50,
     "metadata": {},
     "output_type": "execute_result"
    }
   ],
   "source": [
    "df.isna().sum()"
   ]
  },
  {
   "cell_type": "code",
   "execution_count": null,
   "metadata": {},
   "outputs": [],
   "source": []
  },
  {
   "cell_type": "code",
   "execution_count": null,
   "metadata": {},
   "outputs": [],
   "source": []
  },
  {
   "cell_type": "code",
   "execution_count": 16,
   "metadata": {},
   "outputs": [],
   "source": [
    "keywords = ['google', 'apple', 'ipad', 'android', 'iphone']\n",
    "\n",
    "for index, row in df.iterrows():\n",
    "    cleaned_text = row['cleaned_text']\n",
    "    if pd.isna(row['product_or_company']) and isinstance(cleaned_text, str):\n",
    "        for keyword in keywords:\n",
    "            if keyword in cleaned_text.lower():\n",
    "                df.at[index, 'product_or_company'] = keyword\n",
    "                break\n"
   ]
  },
  {
   "cell_type": "code",
   "execution_count": null,
   "metadata": {},
   "outputs": [],
   "source": []
  },
  {
   "cell_type": "code",
   "execution_count": 17,
   "metadata": {
    "scrolled": true
   },
   "outputs": [
    {
     "data": {
      "text/plain": [
       "tweet                   1\n",
       "product_or_company    765\n",
       "emotion_detected        0\n",
       "cleaned_text            1\n",
       "dtype: int64"
      ]
     },
     "execution_count": 17,
     "metadata": {},
     "output_type": "execute_result"
    }
   ],
   "source": [
    "df.isna().sum()"
   ]
  },
  {
   "cell_type": "code",
   "execution_count": null,
   "metadata": {},
   "outputs": [],
   "source": []
  },
  {
   "cell_type": "code",
   "execution_count": 18,
   "metadata": {},
   "outputs": [
    {
     "data": {
      "text/html": [
       "<div>\n",
       "<style scoped>\n",
       "    .dataframe tbody tr th:only-of-type {\n",
       "        vertical-align: middle;\n",
       "    }\n",
       "\n",
       "    .dataframe tbody tr th {\n",
       "        vertical-align: top;\n",
       "    }\n",
       "\n",
       "    .dataframe thead th {\n",
       "        text-align: right;\n",
       "    }\n",
       "</style>\n",
       "<table border=\"1\" class=\"dataframe\">\n",
       "  <thead>\n",
       "    <tr style=\"text-align: right;\">\n",
       "      <th></th>\n",
       "      <th>tweet</th>\n",
       "      <th>product_or_company</th>\n",
       "      <th>emotion_detected</th>\n",
       "      <th>cleaned_text</th>\n",
       "    </tr>\n",
       "  </thead>\n",
       "  <tbody>\n",
       "    <tr>\n",
       "      <th>0</th>\n",
       "      <td>.@wesley83 I have a 3G iPhone. After 3 hrs twe...</td>\n",
       "      <td>iPhone</td>\n",
       "      <td>Negative emotion</td>\n",
       "      <td>wesley g iphone hr tweeting rise_austin dead n...</td>\n",
       "    </tr>\n",
       "    <tr>\n",
       "      <th>1</th>\n",
       "      <td>@jessedee Know about @fludapp ? Awesome iPad/i...</td>\n",
       "      <td>iPad or iPhone App</td>\n",
       "      <td>Positive emotion</td>\n",
       "      <td>jessedee know fludapp awesome ipadiphone app y...</td>\n",
       "    </tr>\n",
       "    <tr>\n",
       "      <th>2</th>\n",
       "      <td>@swonderlin Can not wait for #iPad 2 also. The...</td>\n",
       "      <td>iPad</td>\n",
       "      <td>Positive emotion</td>\n",
       "      <td>swonderlin wait ipad also sale sxsw</td>\n",
       "    </tr>\n",
       "    <tr>\n",
       "      <th>3</th>\n",
       "      <td>@sxsw I hope this year's festival isn't as cra...</td>\n",
       "      <td>iPad or iPhone App</td>\n",
       "      <td>Negative emotion</td>\n",
       "      <td>sxsw hope year festival isnt crashy year iphon...</td>\n",
       "    </tr>\n",
       "    <tr>\n",
       "      <th>4</th>\n",
       "      <td>@sxtxstate great stuff on Fri #SXSW: Marissa M...</td>\n",
       "      <td>Google</td>\n",
       "      <td>Positive emotion</td>\n",
       "      <td>sxtxstate great stuff fri sxsw marissa mayer g...</td>\n",
       "    </tr>\n",
       "  </tbody>\n",
       "</table>\n",
       "</div>"
      ],
      "text/plain": [
       "                                               tweet  product_or_company  \\\n",
       "0  .@wesley83 I have a 3G iPhone. After 3 hrs twe...              iPhone   \n",
       "1  @jessedee Know about @fludapp ? Awesome iPad/i...  iPad or iPhone App   \n",
       "2  @swonderlin Can not wait for #iPad 2 also. The...                iPad   \n",
       "3  @sxsw I hope this year's festival isn't as cra...  iPad or iPhone App   \n",
       "4  @sxtxstate great stuff on Fri #SXSW: Marissa M...              Google   \n",
       "\n",
       "   emotion_detected                                       cleaned_text  \n",
       "0  Negative emotion  wesley g iphone hr tweeting rise_austin dead n...  \n",
       "1  Positive emotion  jessedee know fludapp awesome ipadiphone app y...  \n",
       "2  Positive emotion                swonderlin wait ipad also sale sxsw  \n",
       "3  Negative emotion  sxsw hope year festival isnt crashy year iphon...  \n",
       "4  Positive emotion  sxtxstate great stuff fri sxsw marissa mayer g...  "
      ]
     },
     "execution_count": 18,
     "metadata": {},
     "output_type": "execute_result"
    }
   ],
   "source": [
    "df.head()"
   ]
  },
  {
   "cell_type": "code",
   "execution_count": null,
   "metadata": {},
   "outputs": [],
   "source": []
  },
  {
   "cell_type": "code",
   "execution_count": null,
   "metadata": {},
   "outputs": [],
   "source": []
  },
  {
   "cell_type": "code",
   "execution_count": 167,
   "metadata": {},
   "outputs": [],
   "source": [
    "df['company_apple'] = df['product_or_company'].replace(['iPhone', \n",
    "                                                  'iPad', \n",
    "                                                  'apple', \n",
    "                                                  'iPad or iPhone App',\n",
    "                                                  'iphone', \n",
    "                                                  'ipad', \n",
    "                                                  'Other Apple product or service'], 'Apple')"
   ]
  },
  {
   "cell_type": "code",
   "execution_count": 169,
   "metadata": {},
   "outputs": [],
   "source": [
    "df['company_google'] = df['product_or_company'].replace(['android', \n",
    "                                                  'Android', \n",
    "                                                  'google',\n",
    "                                                  'Other Google product or service',\n",
    "                                                  'Android App'], 'Google')"
   ]
  },
  {
   "cell_type": "code",
   "execution_count": 170,
   "metadata": {},
   "outputs": [
    {
     "data": {
      "text/plain": [
       "Google                            2945\n",
       "apple                             1195\n",
       "ipad                              1070\n",
       "iPad                               946\n",
       "iphone                             709\n",
       "Apple                              661\n",
       "iPad or iPhone App                 470\n",
       "iPhone                             297\n",
       "Other Apple product or service      35\n",
       "Name: company_google, dtype: int64"
      ]
     },
     "execution_count": 170,
     "metadata": {},
     "output_type": "execute_result"
    }
   ],
   "source": [
    "df['company_google'].value_counts()"
   ]
  },
  {
   "cell_type": "code",
   "execution_count": null,
   "metadata": {},
   "outputs": [],
   "source": []
  },
  {
   "cell_type": "code",
   "execution_count": 168,
   "metadata": {
    "scrolled": true
   },
   "outputs": [
    {
     "data": {
      "text/plain": [
       "Apple                              5383\n",
       "google                             1737\n",
       "Google                              430\n",
       "android                             326\n",
       "Other Google product or service     293\n",
       "Android App                          81\n",
       "Android                              78\n",
       "Name: company_apple, dtype: int64"
      ]
     },
     "execution_count": 168,
     "metadata": {},
     "output_type": "execute_result"
    }
   ],
   "source": [
    "df['company_apple'].value_counts()"
   ]
  },
  {
   "cell_type": "code",
   "execution_count": null,
   "metadata": {},
   "outputs": [],
   "source": []
  },
  {
   "cell_type": "code",
   "execution_count": 171,
   "metadata": {},
   "outputs": [],
   "source": [
    "df['company'] = df['company_apple'] + df['company_google']"
   ]
  },
  {
   "cell_type": "code",
   "execution_count": 172,
   "metadata": {},
   "outputs": [
    {
     "data": {
      "text/plain": [
       "0                                AppleiPhone\n",
       "1                    AppleiPad or iPhone App\n",
       "2                                  AppleiPad\n",
       "4                               GoogleGoogle\n",
       "5                                  Appleipad\n",
       "6                                        NaN\n",
       "7                              AndroidGoogle\n",
       "9                                 AppleApple\n",
       "11                         Android AppGoogle\n",
       "13     Other Google product or serviceGoogle\n",
       "32                             androidGoogle\n",
       "35                              googleGoogle\n",
       "42                               Appleiphone\n",
       "60                                Appleapple\n",
       "703      AppleOther Apple product or service\n",
       "Name: company, dtype: object"
      ]
     },
     "execution_count": 172,
     "metadata": {},
     "output_type": "execute_result"
    }
   ],
   "source": [
    "df['company'].drop_duplicates()"
   ]
  },
  {
   "cell_type": "code",
   "execution_count": null,
   "metadata": {},
   "outputs": [],
   "source": []
  },
  {
   "cell_type": "code",
   "execution_count": 173,
   "metadata": {},
   "outputs": [
    {
     "data": {
      "text/html": [
       "<div>\n",
       "<style scoped>\n",
       "    .dataframe tbody tr th:only-of-type {\n",
       "        vertical-align: middle;\n",
       "    }\n",
       "\n",
       "    .dataframe tbody tr th {\n",
       "        vertical-align: top;\n",
       "    }\n",
       "\n",
       "    .dataframe thead th {\n",
       "        text-align: right;\n",
       "    }\n",
       "</style>\n",
       "<table border=\"1\" class=\"dataframe\">\n",
       "  <thead>\n",
       "    <tr style=\"text-align: right;\">\n",
       "      <th></th>\n",
       "      <th>tweet</th>\n",
       "      <th>product_or_company</th>\n",
       "      <th>emotion_detected</th>\n",
       "      <th>cleaned_text</th>\n",
       "      <th>company</th>\n",
       "      <th>company_apple</th>\n",
       "      <th>company_google</th>\n",
       "    </tr>\n",
       "  </thead>\n",
       "  <tbody>\n",
       "    <tr>\n",
       "      <th>0</th>\n",
       "      <td>.@wesley83 I have a 3G iPhone. After 3 hrs twe...</td>\n",
       "      <td>iPhone</td>\n",
       "      <td>Negative</td>\n",
       "      <td>wesley g iphone hr tweeting rise_austin dead n...</td>\n",
       "      <td>AppleiPhone</td>\n",
       "      <td>Apple</td>\n",
       "      <td>iPhone</td>\n",
       "    </tr>\n",
       "    <tr>\n",
       "      <th>1</th>\n",
       "      <td>@jessedee Know about @fludapp ? Awesome iPad/i...</td>\n",
       "      <td>iPad or iPhone App</td>\n",
       "      <td>Positive</td>\n",
       "      <td>jessedee know fludapp awesome ipadiphone app y...</td>\n",
       "      <td>AppleiPad or iPhone App</td>\n",
       "      <td>Apple</td>\n",
       "      <td>iPad or iPhone App</td>\n",
       "    </tr>\n",
       "    <tr>\n",
       "      <th>2</th>\n",
       "      <td>@swonderlin Can not wait for #iPad 2 also. The...</td>\n",
       "      <td>iPad</td>\n",
       "      <td>Positive</td>\n",
       "      <td>swonderlin wait ipad also sale sxsw</td>\n",
       "      <td>AppleiPad</td>\n",
       "      <td>Apple</td>\n",
       "      <td>iPad</td>\n",
       "    </tr>\n",
       "    <tr>\n",
       "      <th>3</th>\n",
       "      <td>@sxsw I hope this year's festival isn't as cra...</td>\n",
       "      <td>iPad or iPhone App</td>\n",
       "      <td>Negative</td>\n",
       "      <td>sxsw hope year festival isnt crashy year iphon...</td>\n",
       "      <td>AppleiPad or iPhone App</td>\n",
       "      <td>Apple</td>\n",
       "      <td>iPad or iPhone App</td>\n",
       "    </tr>\n",
       "    <tr>\n",
       "      <th>4</th>\n",
       "      <td>@sxtxstate great stuff on Fri #SXSW: Marissa M...</td>\n",
       "      <td>Google</td>\n",
       "      <td>Positive</td>\n",
       "      <td>sxtxstate great stuff fri sxsw marissa mayer g...</td>\n",
       "      <td>GoogleGoogle</td>\n",
       "      <td>Google</td>\n",
       "      <td>Google</td>\n",
       "    </tr>\n",
       "  </tbody>\n",
       "</table>\n",
       "</div>"
      ],
      "text/plain": [
       "                                               tweet  product_or_company  \\\n",
       "0  .@wesley83 I have a 3G iPhone. After 3 hrs twe...              iPhone   \n",
       "1  @jessedee Know about @fludapp ? Awesome iPad/i...  iPad or iPhone App   \n",
       "2  @swonderlin Can not wait for #iPad 2 also. The...                iPad   \n",
       "3  @sxsw I hope this year's festival isn't as cra...  iPad or iPhone App   \n",
       "4  @sxtxstate great stuff on Fri #SXSW: Marissa M...              Google   \n",
       "\n",
       "  emotion_detected                                       cleaned_text  \\\n",
       "0         Negative  wesley g iphone hr tweeting rise_austin dead n...   \n",
       "1         Positive  jessedee know fludapp awesome ipadiphone app y...   \n",
       "2         Positive                swonderlin wait ipad also sale sxsw   \n",
       "3         Negative  sxsw hope year festival isnt crashy year iphon...   \n",
       "4         Positive  sxtxstate great stuff fri sxsw marissa mayer g...   \n",
       "\n",
       "                   company company_apple      company_google  \n",
       "0              AppleiPhone         Apple              iPhone  \n",
       "1  AppleiPad or iPhone App         Apple  iPad or iPhone App  \n",
       "2                AppleiPad         Apple                iPad  \n",
       "3  AppleiPad or iPhone App         Apple  iPad or iPhone App  \n",
       "4             GoogleGoogle        Google              Google  "
      ]
     },
     "execution_count": 173,
     "metadata": {},
     "output_type": "execute_result"
    }
   ],
   "source": [
    "df.head()"
   ]
  },
  {
   "cell_type": "markdown",
   "metadata": {},
   "source": [
    "**Time to start modeling**"
   ]
  },
  {
   "cell_type": "code",
   "execution_count": 7,
   "metadata": {},
   "outputs": [],
   "source": []
  },
  {
   "cell_type": "code",
   "execution_count": 51,
   "metadata": {},
   "outputs": [],
   "source": [
    "sentences = df['cleaned_text']\n",
    "labels = df['emotion_detected']"
   ]
  },
  {
   "cell_type": "code",
   "execution_count": null,
   "metadata": {},
   "outputs": [],
   "source": []
  },
  {
   "cell_type": "code",
   "execution_count": 63,
   "metadata": {},
   "outputs": [],
   "source": [
    "tdifvec = TfidfVectorizer()\n",
    "X = tdifvec.fit_transform(sentences)\n",
    "\n",
    "\n",
    "label_encoder = LabelEncoder()\n",
    "y = label_encoder.fit_transform(labels)\n",
    "\n",
    "\n",
    "X_train, X_test, y_train, y_test = train_test_split(X, y, test_size=0.2, random_state=42)"
   ]
  },
  {
   "cell_type": "code",
   "execution_count": 123,
   "metadata": {},
   "outputs": [],
   "source": [
    "smote = SMOTE(random_state=42)\n",
    "X_train_resampled, y_train_resampled = smote.fit_resample(X_train, y_train)\n",
    "\n",
    "\n",
    "#smote_enn = SMOTEENN(random_state=42, \n",
    "                     #smote=SMOTE(random_state=42), \n",
    "                     #enn=EditedNearestNeighbours(),\n",
    "                     #sampling_strategy='auto')\n",
    "\n",
    "#X_train_resampled, y_train_resampled = smote_enn.fit_resample(X_train, y_train)\n",
    "\n",
    "\n",
    "knn = KNeighborsClassifier(n_neighbors=2, \n",
    "                           weights ='distance',\n",
    "                           )\n",
    "\n",
    "knn.fit(X_train_resampled, y_train_resampled)\n",
    "\n",
    "\n",
    "y_pred = knn.predict(X_test)\n",
    "accuracy = accuracy_score(y_test, y_pred)"
   ]
  },
  {
   "cell_type": "code",
   "execution_count": 124,
   "metadata": {},
   "outputs": [
    {
     "name": "stdout",
     "output_type": "stream",
     "text": [
      "0.6327652556349642\n"
     ]
    }
   ],
   "source": [
    "print(accuracy)"
   ]
  },
  {
   "cell_type": "code",
   "execution_count": null,
   "metadata": {},
   "outputs": [],
   "source": []
  },
  {
   "cell_type": "code",
   "execution_count": 126,
   "metadata": {},
   "outputs": [],
   "source": [
    "mnb = MultinomialNB()"
   ]
  },
  {
   "cell_type": "code",
   "execution_count": 128,
   "metadata": {},
   "outputs": [
    {
     "name": "stdout",
     "output_type": "stream",
     "text": [
      "              precision    recall  f1-score   support\n",
      "\n",
      "           0       0.02      0.06      0.03        32\n",
      "           1       0.26      0.52      0.35       115\n",
      "           2       0.76      0.54      0.63      1083\n",
      "           3       0.51      0.61      0.55       589\n",
      "\n",
      "    accuracy                           0.55      1819\n",
      "   macro avg       0.39      0.43      0.39      1819\n",
      "weighted avg       0.63      0.55      0.58      1819\n",
      "\n"
     ]
    }
   ],
   "source": [
    "mnb.fit(X_train_resampled, y_train_resampled)\n",
    "\n",
    "y_pred = mnb.predict(X_test)\n",
    "print(classification_report(y_test, y_pred))"
   ]
  },
  {
   "cell_type": "code",
   "execution_count": null,
   "metadata": {},
   "outputs": [],
   "source": []
  },
  {
   "cell_type": "code",
   "execution_count": 62,
   "metadata": {},
   "outputs": [
    {
     "name": "stdout",
     "output_type": "stream",
     "text": [
      "                                    precision    recall  f1-score   support\n",
      "\n",
      "                      I can't tell       0.00      0.00      0.00        29\n",
      "                  Negative emotion       0.50      0.01      0.02        96\n",
      "No emotion toward brand or product       0.63      0.93      0.75       939\n",
      "                  Positive emotion       0.70      0.32      0.44       597\n",
      "\n",
      "                          accuracy                           0.64      1661\n",
      "                         macro avg       0.46      0.32      0.30      1661\n",
      "                      weighted avg       0.64      0.64      0.58      1661\n",
      "\n"
     ]
    },
    {
     "name": "stderr",
     "output_type": "stream",
     "text": [
      "C:\\Users\\16047\\anaconda3\\envs\\learn-env\\lib\\site-packages\\sklearn\\metrics\\_classification.py:1221: UndefinedMetricWarning: Precision and F-score are ill-defined and being set to 0.0 in labels with no predicted samples. Use `zero_division` parameter to control this behavior.\n",
      "  _warn_prf(average, modifier, msg_start, len(result))\n"
     ]
    }
   ],
   "source": [
    "#pipeline = Pipeline([\n",
    "  #  ('preprocess', TfidfVectorizer(preprocessor=preprocess_tweet)),\n",
    "  #  ('classifier', MultinomialNB())\n",
    "#])\n",
    "\n",
    "\n",
    "#X_train, X_test, y_train, y_test = train_test_split(tweets, labels, test_size=0.2, random_state=42)\n",
    "\n",
    "\n",
    "#pipeline.fit(X_train, y_train)\n",
    "\n",
    "\n",
    "#y_pred = pipeline.predict(X_test)\n",
    "\n",
    "\n",
    "#print(classification_report(y_test, y_pred))"
   ]
  },
  {
   "cell_type": "code",
   "execution_count": null,
   "metadata": {},
   "outputs": [],
   "source": []
  },
  {
   "cell_type": "code",
   "execution_count": 139,
   "metadata": {},
   "outputs": [
    {
     "data": {
      "text/plain": [
       "google                             2063\n",
       "apple                              1195\n",
       "ipad                               1070\n",
       "iPad                                946\n",
       "iphone                              709\n",
       "Apple                               661\n",
       "iPad or iPhone App                  470\n",
       "Google                              430\n",
       "iPhone                              297\n",
       "Other Google product or service     293\n",
       "Android App                          81\n",
       "Android                              78\n",
       "Other Apple product or service       35\n",
       "Name: company, dtype: int64"
      ]
     },
     "execution_count": 139,
     "metadata": {},
     "output_type": "execute_result"
    }
   ],
   "source": [
    "df['company'].value_counts()"
   ]
  },
  {
   "cell_type": "code",
   "execution_count": 138,
   "metadata": {},
   "outputs": [
    {
     "data": {
      "text/plain": [
       "google                             1737\n",
       "apple                              1195\n",
       "ipad                               1070\n",
       "iPad                                946\n",
       "iphone                              709\n",
       "Apple                               661\n",
       "iPad or iPhone App                  470\n",
       "Google                              430\n",
       "android                             326\n",
       "iPhone                              297\n",
       "Other Google product or service     293\n",
       "Android App                          81\n",
       "Android                              78\n",
       "Other Apple product or service       35\n",
       "Name: product_or_company, dtype: int64"
      ]
     },
     "execution_count": 138,
     "metadata": {},
     "output_type": "execute_result"
    }
   ],
   "source": [
    "df['product_or_company'].value_counts()"
   ]
  },
  {
   "cell_type": "code",
   "execution_count": null,
   "metadata": {},
   "outputs": [],
   "source": []
  },
  {
   "cell_type": "code",
   "execution_count": 133,
   "metadata": {},
   "outputs": [
    {
     "data": {
      "text/plain": [
       "[('rt mention google launch major new social network called circle possibly today link sxsw',\n",
       "  13),\n",
       " ('rt mention marissa mayer google connect digital amp physical world mobile link sxsw',\n",
       "  10),\n",
       " ('google launch major new social network called circle possibly today link sxsw',\n",
       "  8),\n",
       " ('rt mention rumor apple opening temporary store downtown austin sxsw ipad launch link',\n",
       "  8),\n",
       " ('win free ipad webdoccom sxsw rt', 7),\n",
       " ('rt mention rt mention rumor apple opening temporary store downtown austin sxsw ipad launch link',\n",
       "  6),\n",
       " ('¼ _ link ã_ edchat musedchat sxsw sxswi classical newtwitter', 4),\n",
       " ('sxsw apple school marketing expert link', 4),\n",
       " ('marissa mayer google connect digital amp physical world mobile link sxsw',\n",
       "  4),\n",
       " ('rt mention rt mention google launch major new social network called circle possibly today link sxsw',\n",
       "  4),\n",
       " ('even begin apple win sxsw link', 3),\n",
       " ('google launch major new social network called circle link sxsw', 3),\n",
       " ('google launch major new social network called circle possibly today sxsw link',\n",
       "  3),\n",
       " ('android party sxsw mention lustre pearl bar w others link', 3),\n",
       " ('rt mention best thing ive heard weekend sxsw quoti gave ipad money japan relief dont need ipad quot',\n",
       "  3),\n",
       " ('rt mention love mention sxsw quotapple come cool technology one ever heard dont go conferencesquot',\n",
       "  3),\n",
       " ('rt mention interrupt regularly scheduled sxsw geek programming big news link google circle',\n",
       "  3),\n",
       " ('rt mention rt mention love mention sxsw quotapple come cool technology one ever heard dont go conferencesquot',\n",
       "  3),\n",
       " ('rt mention apple opening temporary store downtown austin sxsw ipad launch link',\n",
       "  3),\n",
       " ('rt mention google launch major new social network called circle possibly today sxsw link',\n",
       "  3)]"
      ]
     },
     "execution_count": 133,
     "metadata": {},
     "output_type": "execute_result"
    }
   ],
   "source": [
    "freq = FreqDist(df['cleaned_text'])\n",
    "freq.most_common(20)"
   ]
  },
  {
   "cell_type": "code",
   "execution_count": 134,
   "metadata": {},
   "outputs": [],
   "source": [
    "stop_lst = stopwords.words('english')\n",
    "stop_lst += list(string.punctuation)\n",
    "stop_lst += ['...','#sxsw', '’', '#sxswi', 'sxsw', \"''\", 'link','rt']"
   ]
  },
  {
   "cell_type": "code",
   "execution_count": 136,
   "metadata": {},
   "outputs": [],
   "source": [
    "def remove_stopwords(tokens, stop_list = stop_lst):\n",
    "    \n",
    "   \n",
    "    \n",
    "    tokens_stopped = [word.encode('ascii','ignore').decode() \n",
    "                      for word in tokens \n",
    "                      if (word not in stop_list) & \n",
    "                      (word.startswith('http') == False)]\n",
    "    \n",
    "\n",
    "    return tokens_stopped\n",
    "\n",
    "stop_lst_no_brands_products = stop_lst + ['ipad', 'apple', 'google', 'iphone', '#apple', \n",
    "                               '#google', '#ipad', '#iphone', 'android']\n",
    "\n",
    "tokens_apple_pos_nostopwords = remove_stopwords(df['cleaned_text'], stop_lst_no_brands_products)"
   ]
  },
  {
   "cell_type": "code",
   "execution_count": 137,
   "metadata": {},
   "outputs": [
    {
     "data": {
      "text/plain": [
       "[('rt mention google launch major new social network called circle possibly today link sxsw',\n",
       "  15),\n",
       " ('rt mention marissa mayer google connect digital amp physical world mobile link sxsw',\n",
       "  10),\n",
       " ('google launch major new social network called circle possibly today link sxsw',\n",
       "  9),\n",
       " ('rt mention rumor apple opening temporary store downtown austin sxsw ipad launch link',\n",
       "  8),\n",
       " ('win free ipad webdoccom sxsw rt', 7),\n",
       " ('rt mention rt mention rumor apple opening temporary store downtown austin sxsw ipad launch link',\n",
       "  6),\n",
       " ('rt mention rt mention google launch major new social network called circle possibly today link sxsw',\n",
       "  5),\n",
       " (' _ link _ edchat musedchat sxsw sxswi classical newtwitter', 4),\n",
       " ('sxsw apple school marketing expert link', 4),\n",
       " ('mention new ubersocial iphone app store includes uberguide sxsw sponsored mashable link',\n",
       "  4),\n",
       " ('marissa mayer google connect digital amp physical world mobile link sxsw',\n",
       "  4),\n",
       " ('even begin apple win sxsw link', 3),\n",
       " ('google launch major new social network called circle link sxsw', 3),\n",
       " ('google launch major new social network called circle possibly today sxsw link',\n",
       "  3),\n",
       " ('android party sxsw mention lustre pearl bar w others link', 3),\n",
       " ('rt mention best thing ive heard weekend sxsw quoti gave ipad money japan relief dont need ipad quot',\n",
       "  3),\n",
       " ('rt mention love mention sxsw quotapple come cool technology one ever heard dont go conferencesquot',\n",
       "  3),\n",
       " ('rt mention interrupt regularly scheduled sxsw geek programming big news link google circle',\n",
       "  3),\n",
       " ('rt mention rt mention love mention sxsw quotapple come cool technology one ever heard dont go conferencesquot',\n",
       "  3),\n",
       " ('rt mention apple opening temporary store downtown austin sxsw ipad launch link',\n",
       "  3),\n",
       " ('rt mention google launch major new social network called circle possibly today sxsw link',\n",
       "  3),\n",
       " ('rt mention new ubersocial iphone app store includes uberguide sxsw sponsored mashable link',\n",
       "  3),\n",
       " ('rt mention launching product sxsw plenty else join u hckers amp dancing link',\n",
       "  3),\n",
       " ('rt mention yes updated iphone app song info mention stream others also live video streaming sxsw link',\n",
       "  3),\n",
       " ('sxsw starting ctia around corner googleio hop skip jump good time android fan',\n",
       "  2),\n",
       " ('counting day sxsw plus strong canadian dollar mean stock apple gear', 2),\n",
       " ('noticed dst coming weekend many iphone user hour late sxsw come sunday morning sxsw iphone',\n",
       "  2),\n",
       " ('need buy ipad im austin sxsw sure ill need q austin apple store', 2),\n",
       " ('oh god sxsw app ipad pure unadulterated awesome easier browse event ipad website',\n",
       "  2),\n",
       " ('really enjoying change gowalla android looking forward seeing else amp foursquare sleeve sxsw',\n",
       "  2),\n",
       " ('mention false alarm google circle coming nowand probably ever link google circle social sxsw',\n",
       "  2),\n",
       " ('nice rt mention hey apple fan get peek space thats slated popup sxsw apple store tomorrow link',\n",
       "  2),\n",
       " ('smallbiz need review play google placeswe got app thatlink seo sxsw', 2),\n",
       " ('surprise apple opened popup store austin nerd town sxsw get new ipads link',\n",
       "  2),\n",
       " ('mention sxsw quotapple come cool technology one ever heard dont go conferencesquot',\n",
       "  2),\n",
       " ('hootsuite blog  social medium dashboard  hootsuite mobile sxsw update iphone blackberry amp android link',\n",
       "  2),\n",
       " ('mention download free track sxsw music sampler available mention store today link',\n",
       "  2),\n",
       " ('mention enjoy sxsw ride anywhere austin download groundlink app link booth',\n",
       "  2),\n",
       " ('even begin apple win sxsw link mention', 2),\n",
       " ('mention google connect digital amp physical world mobile link sxsw rt mention',\n",
       "  2)]"
      ]
     },
     "execution_count": 137,
     "metadata": {},
     "output_type": "execute_result"
    }
   ],
   "source": [
    "freq = FreqDist(tokens_apple_pos_nostopwords)\n",
    "freq.most_common(40)"
   ]
  },
  {
   "cell_type": "code",
   "execution_count": null,
   "metadata": {},
   "outputs": [],
   "source": []
  },
  {
   "cell_type": "code",
   "execution_count": null,
   "metadata": {},
   "outputs": [],
   "source": []
  },
  {
   "cell_type": "code",
   "execution_count": null,
   "metadata": {},
   "outputs": [],
   "source": []
  },
  {
   "cell_type": "code",
   "execution_count": null,
   "metadata": {},
   "outputs": [],
   "source": []
  }
 ],
 "metadata": {
  "kernelspec": {
   "display_name": "Python 3",
   "language": "python",
   "name": "python3"
  },
  "language_info": {
   "codemirror_mode": {
    "name": "ipython",
    "version": 3
   },
   "file_extension": ".py",
   "mimetype": "text/x-python",
   "name": "python",
   "nbconvert_exporter": "python",
   "pygments_lexer": "ipython3",
   "version": "3.8.5"
  }
 },
 "nbformat": 4,
 "nbformat_minor": 2
}
