{
 "cells": [
  {
   "cell_type": "markdown",
   "metadata": {},
   "source": [
    "## Project Submission: Data Cleaning"
   ]
  },
  {
   "cell_type": "markdown",
   "metadata": {},
   "source": [
    "\n",
    "Student names: Qi Cai, Alex Karadjov\n",
    "\n",
    "Student pace: full time\n",
    "\n",
    "Instructor name: David B. Elliott\n"
   ]
  },
  {
   "cell_type": "code",
   "execution_count": 1,
   "metadata": {},
   "outputs": [],
   "source": [
    "#import libraries for cleaning\n",
    "import pandas as pd\n",
    "import numpy as np\n",
    "import matplotlib.pyplot as plt\n",
    "import seaborn as sns\n",
    "%matplotlib inline"
   ]
  },
  {
   "cell_type": "code",
   "execution_count": 2,
   "metadata": {},
   "outputs": [],
   "source": [
    "# Load dataset\n",
    "df = pd.read_csv(\"./Data/judge_tweet_company.csv\", encoding='latin-1')"
   ]
  },
  {
   "cell_type": "code",
   "execution_count": 3,
   "metadata": {
    "scrolled": true
   },
   "outputs": [
    {
     "data": {
      "text/html": [
       "<div>\n",
       "<style scoped>\n",
       "    .dataframe tbody tr th:only-of-type {\n",
       "        vertical-align: middle;\n",
       "    }\n",
       "\n",
       "    .dataframe tbody tr th {\n",
       "        vertical-align: top;\n",
       "    }\n",
       "\n",
       "    .dataframe thead th {\n",
       "        text-align: right;\n",
       "    }\n",
       "</style>\n",
       "<table border=\"1\" class=\"dataframe\">\n",
       "  <thead>\n",
       "    <tr style=\"text-align: right;\">\n",
       "      <th></th>\n",
       "      <th>tweet_text</th>\n",
       "      <th>emotion_in_tweet_is_directed_at</th>\n",
       "      <th>is_there_an_emotion_directed_at_a_brand_or_product</th>\n",
       "    </tr>\n",
       "  </thead>\n",
       "  <tbody>\n",
       "    <tr>\n",
       "      <th>0</th>\n",
       "      <td>.@wesley83 I have a 3G iPhone. After 3 hrs twe...</td>\n",
       "      <td>iPhone</td>\n",
       "      <td>Negative emotion</td>\n",
       "    </tr>\n",
       "    <tr>\n",
       "      <th>1</th>\n",
       "      <td>@jessedee Know about @fludapp ? Awesome iPad/i...</td>\n",
       "      <td>iPad or iPhone App</td>\n",
       "      <td>Positive emotion</td>\n",
       "    </tr>\n",
       "    <tr>\n",
       "      <th>2</th>\n",
       "      <td>@swonderlin Can not wait for #iPad 2 also. The...</td>\n",
       "      <td>iPad</td>\n",
       "      <td>Positive emotion</td>\n",
       "    </tr>\n",
       "    <tr>\n",
       "      <th>3</th>\n",
       "      <td>@sxsw I hope this year's festival isn't as cra...</td>\n",
       "      <td>iPad or iPhone App</td>\n",
       "      <td>Negative emotion</td>\n",
       "    </tr>\n",
       "    <tr>\n",
       "      <th>4</th>\n",
       "      <td>@sxtxstate great stuff on Fri #SXSW: Marissa M...</td>\n",
       "      <td>Google</td>\n",
       "      <td>Positive emotion</td>\n",
       "    </tr>\n",
       "  </tbody>\n",
       "</table>\n",
       "</div>"
      ],
      "text/plain": [
       "                                          tweet_text  \\\n",
       "0  .@wesley83 I have a 3G iPhone. After 3 hrs twe...   \n",
       "1  @jessedee Know about @fludapp ? Awesome iPad/i...   \n",
       "2  @swonderlin Can not wait for #iPad 2 also. The...   \n",
       "3  @sxsw I hope this year's festival isn't as cra...   \n",
       "4  @sxtxstate great stuff on Fri #SXSW: Marissa M...   \n",
       "\n",
       "  emotion_in_tweet_is_directed_at  \\\n",
       "0                          iPhone   \n",
       "1              iPad or iPhone App   \n",
       "2                            iPad   \n",
       "3              iPad or iPhone App   \n",
       "4                          Google   \n",
       "\n",
       "  is_there_an_emotion_directed_at_a_brand_or_product  \n",
       "0                                   Negative emotion  \n",
       "1                                   Positive emotion  \n",
       "2                                   Positive emotion  \n",
       "3                                   Negative emotion  \n",
       "4                                   Positive emotion  "
      ]
     },
     "execution_count": 3,
     "metadata": {},
     "output_type": "execute_result"
    }
   ],
   "source": [
    "# Checking out columns\n",
    "df.head()"
   ]
  },
  {
   "cell_type": "code",
   "execution_count": 4,
   "metadata": {},
   "outputs": [
    {
     "data": {
      "text/html": [
       "<div>\n",
       "<style scoped>\n",
       "    .dataframe tbody tr th:only-of-type {\n",
       "        vertical-align: middle;\n",
       "    }\n",
       "\n",
       "    .dataframe tbody tr th {\n",
       "        vertical-align: top;\n",
       "    }\n",
       "\n",
       "    .dataframe thead th {\n",
       "        text-align: right;\n",
       "    }\n",
       "</style>\n",
       "<table border=\"1\" class=\"dataframe\">\n",
       "  <thead>\n",
       "    <tr style=\"text-align: right;\">\n",
       "      <th></th>\n",
       "      <th>Tweet</th>\n",
       "      <th>Brand/Product</th>\n",
       "      <th>Emotion</th>\n",
       "    </tr>\n",
       "  </thead>\n",
       "  <tbody>\n",
       "    <tr>\n",
       "      <th>0</th>\n",
       "      <td>.@wesley83 I have a 3G iPhone. After 3 hrs twe...</td>\n",
       "      <td>iPhone</td>\n",
       "      <td>Negative emotion</td>\n",
       "    </tr>\n",
       "    <tr>\n",
       "      <th>1</th>\n",
       "      <td>@jessedee Know about @fludapp ? Awesome iPad/i...</td>\n",
       "      <td>iPad or iPhone App</td>\n",
       "      <td>Positive emotion</td>\n",
       "    </tr>\n",
       "    <tr>\n",
       "      <th>2</th>\n",
       "      <td>@swonderlin Can not wait for #iPad 2 also. The...</td>\n",
       "      <td>iPad</td>\n",
       "      <td>Positive emotion</td>\n",
       "    </tr>\n",
       "    <tr>\n",
       "      <th>3</th>\n",
       "      <td>@sxsw I hope this year's festival isn't as cra...</td>\n",
       "      <td>iPad or iPhone App</td>\n",
       "      <td>Negative emotion</td>\n",
       "    </tr>\n",
       "    <tr>\n",
       "      <th>4</th>\n",
       "      <td>@sxtxstate great stuff on Fri #SXSW: Marissa M...</td>\n",
       "      <td>Google</td>\n",
       "      <td>Positive emotion</td>\n",
       "    </tr>\n",
       "  </tbody>\n",
       "</table>\n",
       "</div>"
      ],
      "text/plain": [
       "                                               Tweet       Brand/Product  \\\n",
       "0  .@wesley83 I have a 3G iPhone. After 3 hrs twe...              iPhone   \n",
       "1  @jessedee Know about @fludapp ? Awesome iPad/i...  iPad or iPhone App   \n",
       "2  @swonderlin Can not wait for #iPad 2 also. The...                iPad   \n",
       "3  @sxsw I hope this year's festival isn't as cra...  iPad or iPhone App   \n",
       "4  @sxtxstate great stuff on Fri #SXSW: Marissa M...              Google   \n",
       "\n",
       "            Emotion  \n",
       "0  Negative emotion  \n",
       "1  Positive emotion  \n",
       "2  Positive emotion  \n",
       "3  Negative emotion  \n",
       "4  Positive emotion  "
      ]
     },
     "execution_count": 4,
     "metadata": {},
     "output_type": "execute_result"
    }
   ],
   "source": [
    "# change the column names to make it easier to work with\n",
    "df.columns = ['Tweet','Brand/Product','Emotion']\n",
    "df.head()"
   ]
  },
  {
   "cell_type": "code",
   "execution_count": 5,
   "metadata": {},
   "outputs": [],
   "source": [
    "#Expand the Tweet contents and rows\n",
    "pd.set_option('display.max_colwidth', None)\n",
    "pd.set_option('display.max_rows', None)"
   ]
  },
  {
   "cell_type": "code",
   "execution_count": 6,
   "metadata": {},
   "outputs": [
    {
     "name": "stdout",
     "output_type": "stream",
     "text": [
      "<class 'pandas.core.frame.DataFrame'>\n",
      "RangeIndex: 9093 entries, 0 to 9092\n",
      "Data columns (total 3 columns):\n",
      " #   Column         Non-Null Count  Dtype \n",
      "---  ------         --------------  ----- \n",
      " 0   Tweet          9092 non-null   object\n",
      " 1   Brand/Product  3291 non-null   object\n",
      " 2   Emotion        9093 non-null   object\n",
      "dtypes: object(3)\n",
      "memory usage: 213.2+ KB\n"
     ]
    }
   ],
   "source": [
    "df.info()"
   ]
  },
  {
   "cell_type": "markdown",
   "metadata": {},
   "source": [
    "Notice a lot of NaNs in the Brand/Product column. We do some investigations on what they are and if they have emotions. We dealed with the missing values later in the process."
   ]
  },
  {
   "cell_type": "code",
   "execution_count": 7,
   "metadata": {},
   "outputs": [],
   "source": [
    "# checking NaN Brand/product with positive emotion\n",
    "df_NaN_pos = df [(df['Brand/Product'].isnull()) & (df['Emotion'] == 'Positive emotion')]"
   ]
  },
  {
   "cell_type": "code",
   "execution_count": 8,
   "metadata": {},
   "outputs": [
    {
     "data": {
      "text/html": [
       "<div>\n",
       "<style scoped>\n",
       "    .dataframe tbody tr th:only-of-type {\n",
       "        vertical-align: middle;\n",
       "    }\n",
       "\n",
       "    .dataframe tbody tr th {\n",
       "        vertical-align: top;\n",
       "    }\n",
       "\n",
       "    .dataframe thead th {\n",
       "        text-align: right;\n",
       "    }\n",
       "</style>\n",
       "<table border=\"1\" class=\"dataframe\">\n",
       "  <thead>\n",
       "    <tr style=\"text-align: right;\">\n",
       "      <th></th>\n",
       "      <th>Tweet</th>\n",
       "      <th>Brand/Product</th>\n",
       "      <th>Emotion</th>\n",
       "    </tr>\n",
       "  </thead>\n",
       "  <tbody>\n",
       "    <tr>\n",
       "      <th>46</th>\n",
       "      <td>Hand-Held Û÷HoboÛª: Drafthouse launches Û÷Hobo With a ShotgunÛª iPhone app #SXSW {link}</td>\n",
       "      <td>NaN</td>\n",
       "      <td>Positive emotion</td>\n",
       "    </tr>\n",
       "    <tr>\n",
       "      <th>112</th>\n",
       "      <td>Spark for #android is up for a #teamandroid award at #SXSW read about it here: {link}</td>\n",
       "      <td>NaN</td>\n",
       "      <td>Positive emotion</td>\n",
       "    </tr>\n",
       "    <tr>\n",
       "      <th>131</th>\n",
       "      <td>Does your #SmallBiz need reviews to play on Google Places...We got an App for that..{link}  #seo #sxsw</td>\n",
       "      <td>NaN</td>\n",
       "      <td>Positive emotion</td>\n",
       "    </tr>\n",
       "    <tr>\n",
       "      <th>157</th>\n",
       "      <td>@mention  #SXSW LonelyPlanet Austin guide for #iPhone is free for a limited time {link} #lp #travel</td>\n",
       "      <td>NaN</td>\n",
       "      <td>Positive emotion</td>\n",
       "    </tr>\n",
       "    <tr>\n",
       "      <th>337</th>\n",
       "      <td>First day at sxsw.  Fun final presentation on Google Doodles.  #GoogleDoodle #sxsw</td>\n",
       "      <td>NaN</td>\n",
       "      <td>Positive emotion</td>\n",
       "    </tr>\n",
       "    <tr>\n",
       "      <th>386</th>\n",
       "      <td>&amp;quot;You can Google Canadian Tuxedo and lose yourself for hours&amp;quot; #sxsw</td>\n",
       "      <td>NaN</td>\n",
       "      <td>Positive emotion</td>\n",
       "    </tr>\n",
       "    <tr>\n",
       "      <th>440</th>\n",
       "      <td>Lovin the digital! @mention band sings into iPhone &amp;amp; plays guitar app as fans record vids on iPad2s #CNN Digital #cnngrill #sxsw #sxswi</td>\n",
       "      <td>NaN</td>\n",
       "      <td>Positive emotion</td>\n",
       "    </tr>\n",
       "    <tr>\n",
       "      <th>500</th>\n",
       "      <td>Do it! RT Find the hottest spots @mention w/ @mention Hot Spots #SXSW app on #WP7 {link} or iPhone {link}</td>\n",
       "      <td>NaN</td>\n",
       "      <td>Positive emotion</td>\n",
       "    </tr>\n",
       "    <tr>\n",
       "      <th>555</th>\n",
       "      <td>I have my golden tickets f 4sq party Day after the real party #Redbullbpm with Felix da Housecat playing on iPad! #SXSW  {link}</td>\n",
       "      <td>NaN</td>\n",
       "      <td>Positive emotion</td>\n",
       "    </tr>\n",
       "    <tr>\n",
       "      <th>559</th>\n",
       "      <td>GSD&amp;amp;M Google #sxsw party with @mention is blowing my mind. So much amazing food, drink, music, &amp;amp; photo booth fun!</td>\n",
       "      <td>NaN</td>\n",
       "      <td>Positive emotion</td>\n",
       "    </tr>\n",
       "    <tr>\n",
       "      <th>585</th>\n",
       "      <td>ÛÏ@mention Google to Launch New Social Network Called Circles, Today? {link} #sxswÛ Applause for a new privacy model attempt</td>\n",
       "      <td>NaN</td>\n",
       "      <td>Positive emotion</td>\n",
       "    </tr>\n",
       "    <tr>\n",
       "      <th>598</th>\n",
       "      <td>CNNMoney: Got a craving? #SXSW minds created an app for that - Foodspotting {link} #iPhone #apps</td>\n",
       "      <td>NaN</td>\n",
       "      <td>Positive emotion</td>\n",
       "    </tr>\n",
       "    <tr>\n",
       "      <th>611</th>\n",
       "      <td>I may not have invites to all the &amp;quot;cool&amp;quot; #sxsw #sxswi parties, but I do have two iPhone chargers in my pocket, so you'll be happy to see me!</td>\n",
       "      <td>NaN</td>\n",
       "      <td>Positive emotion</td>\n",
       "    </tr>\n",
       "    <tr>\n",
       "      <th>619</th>\n",
       "      <td>@mention  hello! Enjoy #Sxsw and ride anywhere in Austin for $10 . download the #GroundLink app, {link} booth 437</td>\n",
       "      <td>NaN</td>\n",
       "      <td>Positive emotion</td>\n",
       "    </tr>\n",
       "    <tr>\n",
       "      <th>626</th>\n",
       "      <td>Wondering how much revenue the Austin @mention store grossed on account of the ipad2, amid #sxsw ...what a strategic release...</td>\n",
       "      <td>NaN</td>\n",
       "      <td>Positive emotion</td>\n",
       "    </tr>\n",
       "    <tr>\n",
       "      <th>639</th>\n",
       "      <td>Catch 22Û_ I mean iPad 2 at #SXSW - {link} #apple #ipad2</td>\n",
       "      <td>NaN</td>\n",
       "      <td>Positive emotion</td>\n",
       "    </tr>\n",
       "    <tr>\n",
       "      <th>646</th>\n",
       "      <td>ÛÏ@mention I'll be at the Austin Convention Center today w/ my @mention fam... showing my new iPhone game. #SXSWÛ</td>\n",
       "      <td>NaN</td>\n",
       "      <td>Positive emotion</td>\n",
       "    </tr>\n",
       "    <tr>\n",
       "      <th>662</th>\n",
       "      <td>This Week in #iPad clip: @mention joins @mention to review the free #SXSW Go #App! {link} #iPad2 #SXSWGo</td>\n",
       "      <td>NaN</td>\n",
       "      <td>Positive emotion</td>\n",
       "    </tr>\n",
       "    <tr>\n",
       "      <th>666</th>\n",
       "      <td>I will be in Austin this weekend @mention #SXSW supporting Smarty Ears' launch of new iPad apps for Speech Therapy {link} #sxswh #sxsh</td>\n",
       "      <td>NaN</td>\n",
       "      <td>Positive emotion</td>\n",
       "    </tr>\n",
       "    <tr>\n",
       "      <th>682</th>\n",
       "      <td>#technews iPad 2 Gets Temporary Apple Store for SXSW {link} #Tech_News #Apple #Apple_Store #iPad_2 #SXSW #tech</td>\n",
       "      <td>NaN</td>\n",
       "      <td>Positive emotion</td>\n",
       "    </tr>\n",
       "    <tr>\n",
       "      <th>730</th>\n",
       "      <td>@mention  Its bigger than an iphone and smaller than a PC, so good for big events like #SXSW and meeti? {link}</td>\n",
       "      <td>NaN</td>\n",
       "      <td>Positive emotion</td>\n",
       "    </tr>\n",
       "    <tr>\n",
       "      <th>783</th>\n",
       "      <td>Google to Launch Major New Social Network Called Circles, Possibly Today {link} #sxsw rt @mention via @mention</td>\n",
       "      <td>NaN</td>\n",
       "      <td>Positive emotion</td>\n",
       "    </tr>\n",
       "    <tr>\n",
       "      <th>788</th>\n",
       "      <td>Google to Launch Major New Social Network Called Circles, Possibly Today {link} #sxswÛ &amp;gt;&amp;gt; Should be good</td>\n",
       "      <td>NaN</td>\n",
       "      <td>Positive emotion</td>\n",
       "    </tr>\n",
       "    <tr>\n",
       "      <th>805</th>\n",
       "      <td>Google to Launch Major New Social Network Called Circles, Possibly Today by @mention {link} via @mention #SXSW #ScreenFuture</td>\n",
       "      <td>NaN</td>\n",
       "      <td>Positive emotion</td>\n",
       "    </tr>\n",
       "    <tr>\n",
       "      <th>867</th>\n",
       "      <td>&amp;quot;How many people have iPads?&amp;quot; Whole room raises hand. &amp;quot;iPad 2's?&amp;quot; Half the room raises hand. #stillonamacbook #shame #sxsw #nfusion</td>\n",
       "      <td>NaN</td>\n",
       "      <td>Positive emotion</td>\n",
       "    </tr>\n",
       "    <tr>\n",
       "      <th>879</th>\n",
       "      <td>But great mental image. RT @mention People in this session are taking photos w/ their iPad 2s up in the air... #doingitwrong #sxsw</td>\n",
       "      <td>NaN</td>\n",
       "      <td>Positive emotion</td>\n",
       "    </tr>\n",
       "    <tr>\n",
       "      <th>886</th>\n",
       "      <td>How did I miss this?! I knew I spotted NFC enabled google places marker at birds! No wonder all the billboard near #sxsw {link}</td>\n",
       "      <td>NaN</td>\n",
       "      <td>Positive emotion</td>\n",
       "    </tr>\n",
       "    <tr>\n",
       "      <th>962</th>\n",
       "      <td>It's also on Android. :) RT @mention Foodspotting's hit iPhone app finds the foods you crave {link}  #cnnmoneysxsw #sxsw</td>\n",
       "      <td>NaN</td>\n",
       "      <td>Positive emotion</td>\n",
       "    </tr>\n",
       "    <tr>\n",
       "      <th>1010</th>\n",
       "      <td>Temporary Pop Shop by #Apple at #SXSW and Nice Flipboard upgrade</td>\n",
       "      <td>NaN</td>\n",
       "      <td>Positive emotion</td>\n",
       "    </tr>\n",
       "    <tr>\n",
       "      <th>1063</th>\n",
       "      <td>#sxsw hot rumor about Google's new social network &amp;quot;Google Circles&amp;quot; {link} (photo, video, status sharing)</td>\n",
       "      <td>NaN</td>\n",
       "      <td>Positive emotion</td>\n",
       "    </tr>\n",
       "    <tr>\n",
       "      <th>1066</th>\n",
       "      <td>Wow. Just saw someone using a computing device other than a Mac or an iPad here at #sxsw A rare sighting indeed.</td>\n",
       "      <td>NaN</td>\n",
       "      <td>Positive emotion</td>\n",
       "    </tr>\n",
       "    <tr>\n",
       "      <th>1089</th>\n",
       "      <td>ÛÏ@mention So @mention just spilled the beans: next platform for Flipboard is the iPhone. Team started working on it. #sxflip #SXSW #SXSWiÛ Gr8!</td>\n",
       "      <td>NaN</td>\n",
       "      <td>Positive emotion</td>\n",
       "    </tr>\n",
       "    <tr>\n",
       "      <th>1092</th>\n",
       "      <td>There are so many ppl w/ Apple products at #SXSW - I think my head is about to explode! (this message brought to you via iPhone)</td>\n",
       "      <td>NaN</td>\n",
       "      <td>Positive emotion</td>\n",
       "    </tr>\n",
       "    <tr>\n",
       "      <th>1273</th>\n",
       "      <td>There are two apple stores in ATX!! RT @mention The iPad 2 goes on sale next Friday...the Austin Apple Store is going to be busy! #SXSWÛ</td>\n",
       "      <td>NaN</td>\n",
       "      <td>Positive emotion</td>\n",
       "    </tr>\n",
       "    <tr>\n",
       "      <th>1282</th>\n",
       "      <td>Apple Pop Up Store for #SXSW, Why not Pop Up Genius Bars - Everywhere?</td>\n",
       "      <td>NaN</td>\n",
       "      <td>Positive emotion</td>\n",
       "    </tr>\n",
       "    <tr>\n",
       "      <th>1286</th>\n",
       "      <td>Brilliant use case! #SXSW &amp;quot;@mention ...kik concierge service is great. Get @mention for android or iPhone and add the sxsw user &amp;amp; ask away&amp;quot;</td>\n",
       "      <td>NaN</td>\n",
       "      <td>Positive emotion</td>\n",
       "    </tr>\n",
       "    <tr>\n",
       "      <th>1337</th>\n",
       "      <td>Wow. Just witnessed a homeless guy giving detailed ipad 2 inventory info to a passerby at the Austin popup store. #SXSW</td>\n",
       "      <td>NaN</td>\n",
       "      <td>Positive emotion</td>\n",
       "    </tr>\n",
       "    <tr>\n",
       "      <th>1352</th>\n",
       "      <td>_¼ÛÄ___ü ___¡  _____«_µ... &amp;gt;&amp;gt; @mention Google to Launch Major New Social Network Called Circles, Possibly Today {link} #sxsw</td>\n",
       "      <td>NaN</td>\n",
       "      <td>Positive emotion</td>\n",
       "    </tr>\n",
       "    <tr>\n",
       "      <th>1365</th>\n",
       "      <td>@mention - re: &amp;quot;lack of #SXSW newsworthy announcements&amp;quot;. Unless you count Google Circles. :) #googlecircles</td>\n",
       "      <td>NaN</td>\n",
       "      <td>Positive emotion</td>\n",
       "    </tr>\n",
       "    <tr>\n",
       "      <th>1366</th>\n",
       "      <td>@mention - spread the word, our #SXSW festival explorer App is live and free {link}</td>\n",
       "      <td>NaN</td>\n",
       "      <td>Positive emotion</td>\n",
       "    </tr>\n",
       "    <tr>\n",
       "      <th>1369</th>\n",
       "      <td>@mention --&amp;gt; RT @mention New #UberSocial for #iPhone now in the App Store includes UberGuide to #SXSW ... {link}</td>\n",
       "      <td>NaN</td>\n",
       "      <td>Positive emotion</td>\n",
       "    </tr>\n",
       "    <tr>\n",
       "      <th>1370</th>\n",
       "      <td>@mention -&amp;gt; RT @mention New #UberSocial for #iPhone now in the App Store includes UberGuide to #SXSW (cont) {link}</td>\n",
       "      <td>NaN</td>\n",
       "      <td>Positive emotion</td>\n",
       "    </tr>\n",
       "    <tr>\n",
       "      <th>1379</th>\n",
       "      <td>At Google, 4 people do the work of 7 people rather than 7 people doing the work of 4. #agileagency #SXSW</td>\n",
       "      <td>NaN</td>\n",
       "      <td>Positive emotion</td>\n",
       "    </tr>\n",
       "    <tr>\n",
       "      <th>1458</th>\n",
       "      <td>OH SNAP!!!!  At an 80s party hosted by Google! #sxsw</td>\n",
       "      <td>NaN</td>\n",
       "      <td>Positive emotion</td>\n",
       "    </tr>\n",
       "    <tr>\n",
       "      <th>1508</th>\n",
       "      <td>The world's largest iPad. #sxsw {link}</td>\n",
       "      <td>NaN</td>\n",
       "      <td>Positive emotion</td>\n",
       "    </tr>\n",
       "    <tr>\n",
       "      <th>1514</th>\n",
       "      <td>Google 80's party at Maggie Maes #Sxsw... Got some free glow in the dark shades</td>\n",
       "      <td>NaN</td>\n",
       "      <td>Positive emotion</td>\n",
       "    </tr>\n",
       "    <tr>\n",
       "      <th>1533</th>\n",
       "      <td>Get (down)loaded Hoot! - RT #HootSuite Mobile for #SXSW ~ Updates for iPhone, BlackBerry &amp;amp; Android {link}</td>\n",
       "      <td>NaN</td>\n",
       "      <td>Positive emotion</td>\n",
       "    </tr>\n",
       "    <tr>\n",
       "      <th>1537</th>\n",
       "      <td>@mention @mention  Google Circles will be their new social media site? Wow. #SXSW</td>\n",
       "      <td>NaN</td>\n",
       "      <td>Positive emotion</td>\n",
       "    </tr>\n",
       "    <tr>\n",
       "      <th>1596</th>\n",
       "      <td>@mention @mention I'm reading your book on my flight to #SXSW and the guy next to me is reading it on the iPad. BOOM!</td>\n",
       "      <td>NaN</td>\n",
       "      <td>Positive emotion</td>\n",
       "    </tr>\n",
       "    <tr>\n",
       "      <th>1626</th>\n",
       "      <td>@mention @mention saw this morning that Google Circles would start rollout at #sxsw - not holding breath but open-minded</td>\n",
       "      <td>NaN</td>\n",
       "      <td>Positive emotion</td>\n",
       "    </tr>\n",
       "    <tr>\n",
       "      <th>1740</th>\n",
       "      <td>Free for #SXSW: fluffertraX Radio #iPhone app--{link}</td>\n",
       "      <td>NaN</td>\n",
       "      <td>Positive emotion</td>\n",
       "    </tr>\n",
       "    <tr>\n",
       "      <th>1803</th>\n",
       "      <td>The new #4sq3 looks like it is going to rock. Update for iPhone and Android should push tonight {link} #SXSW #KeepAustinWeird</td>\n",
       "      <td>NaN</td>\n",
       "      <td>Positive emotion</td>\n",
       "    </tr>\n",
       "    <tr>\n",
       "      <th>1805</th>\n",
       "      <td>#sxsw: #15slides: Gruber: keeps on desk Apple Extended Keyboard 2 (discontinued in 1991, $169). Loud. But feels like he writes better.</td>\n",
       "      <td>NaN</td>\n",
       "      <td>Positive emotion</td>\n",
       "    </tr>\n",
       "    <tr>\n",
       "      <th>1813</th>\n",
       "      <td>3rd time a charm? All about privacy! RT @mention Google to Launch New Social Network, Circles, maybe today? {link} #sxsw</td>\n",
       "      <td>NaN</td>\n",
       "      <td>Positive emotion</td>\n",
       "    </tr>\n",
       "    <tr>\n",
       "      <th>1903</th>\n",
       "      <td>@mention After #SXSW I will never again take a fully charged IPhone for granted; 24/7 pics edit tweet 4square apps =zap! &amp;lt;Good 2 kno!</td>\n",
       "      <td>NaN</td>\n",
       "      <td>Positive emotion</td>\n",
       "    </tr>\n",
       "    <tr>\n",
       "      <th>1954</th>\n",
       "      <td>Monthly value of user iOS $9.50. Android $7.20. Utility apps most valuable. #sxswEisner #sxsw</td>\n",
       "      <td>NaN</td>\n",
       "      <td>Positive emotion</td>\n",
       "    </tr>\n",
       "    <tr>\n",
       "      <th>1962</th>\n",
       "      <td>Holler Gram for iPad on the iTunes App Store -  {link} (via @mention #sxsw</td>\n",
       "      <td>NaN</td>\n",
       "      <td>Positive emotion</td>\n",
       "    </tr>\n",
       "    <tr>\n",
       "      <th>1985</th>\n",
       "      <td>@mention and @mention saying hi at #sxsw with their new iPhone cases! #zazzlesxsw {link}</td>\n",
       "      <td>NaN</td>\n",
       "      <td>Positive emotion</td>\n",
       "    </tr>\n",
       "    <tr>\n",
       "      <th>2015</th>\n",
       "      <td>#sxsw  thanks for the ever present iPhone barging tables...</td>\n",
       "      <td>NaN</td>\n",
       "      <td>Positive emotion</td>\n",
       "    </tr>\n",
       "    <tr>\n",
       "      <th>2018</th>\n",
       "      <td>Google plans to bring &amp;quot;The Power of Here&amp;quot; to life in the future by linking the digital and the physical worlds. {link} #sxsw</td>\n",
       "      <td>NaN</td>\n",
       "      <td>Positive emotion</td>\n",
       "    </tr>\n",
       "    <tr>\n",
       "      <th>2059</th>\n",
       "      <td>Line for Apple's iPad 2 popup store is already wrapping around the block. #SXSW  {link}</td>\n",
       "      <td>NaN</td>\n",
       "      <td>Positive emotion</td>\n",
       "    </tr>\n",
       "    <tr>\n",
       "      <th>2079</th>\n",
       "      <td>Share, share and share some more. #Posterous Joins The #SXSW Pile On With Posterous Events For iPhone {link} #socmedia</td>\n",
       "      <td>NaN</td>\n",
       "      <td>Positive emotion</td>\n",
       "    </tr>\n",
       "    <tr>\n",
       "      <th>2152</th>\n",
       "      <td>The band at the Google party is the most entertaining band I have ever seen #sxsw</td>\n",
       "      <td>NaN</td>\n",
       "      <td>Positive emotion</td>\n",
       "    </tr>\n",
       "    <tr>\n",
       "      <th>2202</th>\n",
       "      <td>Android may be gaining market share, but you'd never know it at #sxsw. Apparently our industry movers and shakers are Apple loyalists.</td>\n",
       "      <td>NaN</td>\n",
       "      <td>Positive emotion</td>\n",
       "    </tr>\n",
       "    <tr>\n",
       "      <th>2228</th>\n",
       "      <td>Marissa Mayer: Check-ins are fun but what do you get from them?  Thats why google is testing loyalty offers.  Watch out foursquare. #sxsw</td>\n",
       "      <td>NaN</td>\n",
       "      <td>Positive emotion</td>\n",
       "    </tr>\n",
       "    <tr>\n",
       "      <th>2258</th>\n",
       "      <td>@mention be sure to use our FREE App for checking out the bands at #SXSW! {link}</td>\n",
       "      <td>NaN</td>\n",
       "      <td>Positive emotion</td>\n",
       "    </tr>\n",
       "    <tr>\n",
       "      <th>2262</th>\n",
       "      <td>Enjoying Berkowitz talk about RFID and NCF...impact on mobile, retail. Would you carry a NFC phone? Google bullish #sxsw ballroom E</td>\n",
       "      <td>NaN</td>\n",
       "      <td>Positive emotion</td>\n",
       "    </tr>\n",
       "    <tr>\n",
       "      <th>2304</th>\n",
       "      <td>&amp;quot;...by the law of averages, better than Buzz&amp;quot; RT @mention &amp;quot;Google Circles will be ______ &amp;quot;  #sxsw</td>\n",
       "      <td>NaN</td>\n",
       "      <td>Positive emotion</td>\n",
       "    </tr>\n",
       "    <tr>\n",
       "      <th>2326</th>\n",
       "      <td>Music: Location, mobile recording, meet @mention - #ios and #android updates in time for #sxsw. {link}</td>\n",
       "      <td>NaN</td>\n",
       "      <td>Positive emotion</td>\n",
       "    </tr>\n",
       "    <tr>\n",
       "      <th>2440</th>\n",
       "      <td>This could be the first big news out of #sxsw... {link}  Google building new social framework.</td>\n",
       "      <td>NaN</td>\n",
       "      <td>Positive emotion</td>\n",
       "    </tr>\n",
       "    <tr>\n",
       "      <th>2444</th>\n",
       "      <td>Unexpected bonus of waking up at 4am to make #SXSW flight: being up to order iPad 2 right as it's released</td>\n",
       "      <td>NaN</td>\n",
       "      <td>Positive emotion</td>\n",
       "    </tr>\n",
       "    <tr>\n",
       "      <th>2447</th>\n",
       "      <td>Near Field Communication already here on android phones. #SXSW #bemyneighbor</td>\n",
       "      <td>NaN</td>\n",
       "      <td>Positive emotion</td>\n",
       "    </tr>\n",
       "    <tr>\n",
       "      <th>2468</th>\n",
       "      <td>UBER BRAND SMART: Gonna move a ton of iPad2 - #Apple opening a popup shop in Austin for #SxSW  {link} via@mention @mention</td>\n",
       "      <td>NaN</td>\n",
       "      <td>Positive emotion</td>\n",
       "    </tr>\n",
       "    <tr>\n",
       "      <th>2493</th>\n",
       "      <td>First ipad2 sighting at #SXSW interactive - infact everyone has at least 1 Apple product in use at all times</td>\n",
       "      <td>NaN</td>\n",
       "      <td>Positive emotion</td>\n",
       "    </tr>\n",
       "    <tr>\n",
       "      <th>2512</th>\n",
       "      <td>Getting ideas at #SXSW? Save them on your iPad using Action Lists. True to GTD, syncs w/ iPhone &amp;amp; web.\\n{link}</td>\n",
       "      <td>NaN</td>\n",
       "      <td>Positive emotion</td>\n",
       "    </tr>\n",
       "    <tr>\n",
       "      <th>2543</th>\n",
       "      <td>So every DJ at #SXSW now spins with an iPad as part of their arsenal. The future is coming. No wait, it's here.</td>\n",
       "      <td>NaN</td>\n",
       "      <td>Positive emotion</td>\n",
       "    </tr>\n",
       "    <tr>\n",
       "      <th>2566</th>\n",
       "      <td>Our friends at @mention finally &amp;quot;put out&amp;quot; for Android. Get their app &amp;amp; get your disc on during #sxsw ^KH</td>\n",
       "      <td>NaN</td>\n",
       "      <td>Positive emotion</td>\n",
       "    </tr>\n",
       "    <tr>\n",
       "      <th>2572</th>\n",
       "      <td>That sounds...fantastic. RT @mention At the Google party...awesome. #SXSW</td>\n",
       "      <td>NaN</td>\n",
       "      <td>Positive emotion</td>\n",
       "    </tr>\n",
       "    <tr>\n",
       "      <th>2596</th>\n",
       "      <td>Only white #ipad2 64gig wifi available at #Austin #SXSW #Apple popup store right now, but no wait!</td>\n",
       "      <td>NaN</td>\n",
       "      <td>Positive emotion</td>\n",
       "    </tr>\n",
       "    <tr>\n",
       "      <th>2657</th>\n",
       "      <td>Got in the Google party not before being interviewed by Twit TV, finally ran into @mention #sxsw</td>\n",
       "      <td>NaN</td>\n",
       "      <td>Positive emotion</td>\n",
       "    </tr>\n",
       "    <tr>\n",
       "      <th>2709</th>\n",
       "      <td>if you are ready to take your tech geekdom to a whole new level at #sxsw you will need the Twitter or Google hi-tops {link}</td>\n",
       "      <td>NaN</td>\n",
       "      <td>Positive emotion</td>\n",
       "    </tr>\n",
       "    <tr>\n",
       "      <th>2715</th>\n",
       "      <td>Did anyone see/visit  the temporary Apple Store at #SXSW ?</td>\n",
       "      <td>NaN</td>\n",
       "      <td>Positive emotion</td>\n",
       "    </tr>\n",
       "    <tr>\n",
       "      <th>2753</th>\n",
       "      <td>I love the waves!!!!!! {link} iPad Webber #japan #sxsw</td>\n",
       "      <td>NaN</td>\n",
       "      <td>Positive emotion</td>\n",
       "    </tr>\n",
       "    <tr>\n",
       "      <th>2766</th>\n",
       "      <td>Cover time! #sxsw (@mention Apple Store, SXSW w/ 9 others) {link}</td>\n",
       "      <td>NaN</td>\n",
       "      <td>Positive emotion</td>\n",
       "    </tr>\n",
       "    <tr>\n",
       "      <th>2832</th>\n",
       "      <td>Just passed the Apple store.. On 6th.. Easily 150 folks in line #SXSW  {link}</td>\n",
       "      <td>NaN</td>\n",
       "      <td>Positive emotion</td>\n",
       "    </tr>\n",
       "    <tr>\n",
       "      <th>2833</th>\n",
       "      <td>Just joined the heaving river flow into see Marissa Mayer (Google) #sxsw</td>\n",
       "      <td>NaN</td>\n",
       "      <td>Positive emotion</td>\n",
       "    </tr>\n",
       "    <tr>\n",
       "      <th>2835</th>\n",
       "      <td>Was shocked to see Google showcasing Blogger at #SXSW - thought they completely forgot about that service - or is that just me?</td>\n",
       "      <td>NaN</td>\n",
       "      <td>Positive emotion</td>\n",
       "    </tr>\n",
       "    <tr>\n",
       "      <th>2854</th>\n",
       "      <td>Already seeing a heavy iPad 2 presence at #sxsw #duh</td>\n",
       "      <td>NaN</td>\n",
       "      <td>Positive emotion</td>\n",
       "    </tr>\n",
       "    <tr>\n",
       "      <th>2874</th>\n",
       "      <td>Great panel w/guys fr @mention @mention @mention &amp;amp; google hotpot! Social recs def not the end for recs. #discotalk #sxsw #sloanxsw</td>\n",
       "      <td>NaN</td>\n",
       "      <td>Positive emotion</td>\n",
       "    </tr>\n",
       "    <tr>\n",
       "      <th>2904</th>\n",
       "      <td>#SXSW attendees - need one of the best QR scanner/creators on your iPhone? Send us a pic of a QR code you found for a free copy of Optiscan</td>\n",
       "      <td>NaN</td>\n",
       "      <td>Positive emotion</td>\n",
       "    </tr>\n",
       "    <tr>\n",
       "      <th>2960</th>\n",
       "      <td>Badger @mention on Angel News #sxsw {link} - nice one. Also we're giving away a free iPad 2 - {link} #contest</td>\n",
       "      <td>NaN</td>\n",
       "      <td>Positive emotion</td>\n",
       "    </tr>\n",
       "    <tr>\n",
       "      <th>2975</th>\n",
       "      <td>Wow! RT@mention We interrupt your regularly scheduled #sxsw geek programming with big news {link}  #google #circles</td>\n",
       "      <td>NaN</td>\n",
       "      <td>Positive emotion</td>\n",
       "    </tr>\n",
       "    <tr>\n",
       "      <th>2983</th>\n",
       "      <td>Maybe someone that gets the #ipad2 at #SXSW will hand me their old iPad instead of throwing it away</td>\n",
       "      <td>NaN</td>\n",
       "      <td>Positive emotion</td>\n",
       "    </tr>\n",
       "    <tr>\n",
       "      <th>2985</th>\n",
       "      <td>Google+Deep Eddy Sweet Tea vodka+ GSDM cool factor #SXSW (@mention GSD&amp;amp;M w/ 120 others) {link}</td>\n",
       "      <td>NaN</td>\n",
       "      <td>Positive emotion</td>\n",
       "    </tr>\n",
       "    <tr>\n",
       "      <th>3020</th>\n",
       "      <td>Apple offers original iPad donation program {link} #entry #friends #house #sxsw</td>\n",
       "      <td>NaN</td>\n",
       "      <td>Positive emotion</td>\n",
       "    </tr>\n",
       "    <tr>\n",
       "      <th>3034</th>\n",
       "      <td>Free iTunes Album, #SXSW Featured Artists, grab it if you missed it: {link}</td>\n",
       "      <td>NaN</td>\n",
       "      <td>Positive emotion</td>\n",
       "    </tr>\n",
       "    <tr>\n",
       "      <th>3134</th>\n",
       "      <td>Imagine if every company had the 20% concept like Google. #bavcID #SXSW</td>\n",
       "      <td>NaN</td>\n",
       "      <td>Positive emotion</td>\n",
       "    </tr>\n",
       "    <tr>\n",
       "      <th>3179</th>\n",
       "      <td>No ipad2 for me. Now I have 3 weeks w no iPad since I gave to @mention for #sxsw!! Withdrawal!!!</td>\n",
       "      <td>NaN</td>\n",
       "      <td>Positive emotion</td>\n",
       "    </tr>\n",
       "    <tr>\n",
       "      <th>3224</th>\n",
       "      <td>So the big buzz this year at #SXSW, iPad 2, of course, and Group chat/text services like Group Me or Yobongo. Now you know. #fb</td>\n",
       "      <td>NaN</td>\n",
       "      <td>Positive emotion</td>\n",
       "    </tr>\n",
       "    <tr>\n",
       "      <th>3267</th>\n",
       "      <td>Food4Thought...juxtaposed on my iPad #SXSW is rocking; Lybian rebels are thwarted; it's a GORGEOUS day in LA &amp;amp; Japan is reeling</td>\n",
       "      <td>NaN</td>\n",
       "      <td>Positive emotion</td>\n",
       "    </tr>\n",
       "  </tbody>\n",
       "</table>\n",
       "</div>"
      ],
      "text/plain": [
       "                                                                                                                                                          Tweet  \\\n",
       "46                                                                  Hand-Held Û÷HoboÛª: Drafthouse launches Û÷Hobo With a ShotgunÛª iPhone app #SXSW {link}   \n",
       "112                                                                       Spark for #android is up for a #teamandroid award at #SXSW read about it here: {link}   \n",
       "131                                                      Does your #SmallBiz need reviews to play on Google Places...We got an App for that..{link}  #seo #sxsw   \n",
       "157                                                         @mention  #SXSW LonelyPlanet Austin guide for #iPhone is free for a limited time {link} #lp #travel   \n",
       "337                                                                          First day at sxsw.  Fun final presentation on Google Doodles.  #GoogleDoodle #sxsw   \n",
       "386                                                                                &quot;You can Google Canadian Tuxedo and lose yourself for hours&quot; #sxsw   \n",
       "440                 Lovin the digital! @mention band sings into iPhone &amp; plays guitar app as fans record vids on iPad2s #CNN Digital #cnngrill #sxsw #sxswi   \n",
       "500                                                   Do it! RT Find the hottest spots @mention w/ @mention Hot Spots #SXSW app on #WP7 {link} or iPhone {link}   \n",
       "555                             I have my golden tickets f 4sq party Day after the real party #Redbullbpm with Felix da Housecat playing on iPad! #SXSW  {link}   \n",
       "559                                   GSD&amp;M Google #sxsw party with @mention is blowing my mind. So much amazing food, drink, music, &amp; photo booth fun!   \n",
       "585                             ÛÏ@mention Google to Launch New Social Network Called Circles, Today? {link} #sxswÛ Applause for a new privacy model attempt   \n",
       "598                                                            CNNMoney: Got a craving? #SXSW minds created an app for that - Foodspotting {link} #iPhone #apps   \n",
       "611      I may not have invites to all the &quot;cool&quot; #sxsw #sxswi parties, but I do have two iPhone chargers in my pocket, so you'll be happy to see me!   \n",
       "619                                           @mention  hello! Enjoy #Sxsw and ride anywhere in Austin for $10 . download the #GroundLink app, {link} booth 437   \n",
       "626                             Wondering how much revenue the Austin @mention store grossed on account of the ipad2, amid #sxsw ...what a strategic release...   \n",
       "639                                                                                                   Catch 22Û_ I mean iPad 2 at #SXSW - {link} #apple #ipad2   \n",
       "646                                        ÛÏ@mention I'll be at the Austin Convention Center today w/ my @mention fam... showing my new iPhone game. #SXSWÛ   \n",
       "662                                                    This Week in #iPad clip: @mention joins @mention to review the free #SXSW Go #App! {link} #iPad2 #SXSWGo   \n",
       "666                      I will be in Austin this weekend @mention #SXSW supporting Smarty Ears' launch of new iPad apps for Speech Therapy {link} #sxswh #sxsh   \n",
       "682                                              #technews iPad 2 Gets Temporary Apple Store for SXSW {link} #Tech_News #Apple #Apple_Store #iPad_2 #SXSW #tech   \n",
       "730                                              @mention  Its bigger than an iphone and smaller than a PC, so good for big events like #SXSW and meeti? {link}   \n",
       "783                                              Google to Launch Major New Social Network Called Circles, Possibly Today {link} #sxsw rt @mention via @mention   \n",
       "788                                            Google to Launch Major New Social Network Called Circles, Possibly Today {link} #sxswÛ &gt;&gt; Should be good   \n",
       "805                                Google to Launch Major New Social Network Called Circles, Possibly Today by @mention {link} via @mention #SXSW #ScreenFuture   \n",
       "867     &quot;How many people have iPads?&quot; Whole room raises hand. &quot;iPad 2's?&quot; Half the room raises hand. #stillonamacbook #shame #sxsw #nfusion   \n",
       "879                          But great mental image. RT @mention People in this session are taking photos w/ their iPad 2s up in the air... #doingitwrong #sxsw   \n",
       "886                             How did I miss this?! I knew I spotted NFC enabled google places marker at birds! No wonder all the billboard near #sxsw {link}   \n",
       "962                                    It's also on Android. :) RT @mention Foodspotting's hit iPhone app finds the foods you crave {link}  #cnnmoneysxsw #sxsw   \n",
       "1010                                                                                           Temporary Pop Shop by #Apple at #SXSW and Nice Flipboard upgrade   \n",
       "1063                                         #sxsw hot rumor about Google's new social network &quot;Google Circles&quot; {link} (photo, video, status sharing)   \n",
       "1066                                           Wow. Just saw someone using a computing device other than a Mac or an iPad here at #sxsw A rare sighting indeed.   \n",
       "1089        ÛÏ@mention So @mention just spilled the beans: next platform for Flipboard is the iPhone. Team started working on it. #sxflip #SXSW #SXSWiÛ Gr8!   \n",
       "1092                           There are so many ppl w/ Apple products at #SXSW - I think my head is about to explode! (this message brought to you via iPhone)   \n",
       "1273                 There are two apple stores in ATX!! RT @mention The iPad 2 goes on sale next Friday...the Austin Apple Store is going to be busy! #SXSWÛ   \n",
       "1282                                                                                     Apple Pop Up Store for #SXSW, Why not Pop Up Genius Bars - Everywhere?   \n",
       "1286  Brilliant use case! #SXSW &quot;@mention ...kik concierge service is great. Get @mention for android or iPhone and add the sxsw user &amp; ask away&quot;   \n",
       "1337                                    Wow. Just witnessed a homeless guy giving detailed ipad 2 inventory info to a passerby at the Austin popup store. #SXSW   \n",
       "1352                       _¼ÛÄ___ü ___¡  _____«_µ... &gt;&gt; @mention Google to Launch Major New Social Network Called Circles, Possibly Today {link} #sxsw   \n",
       "1365                                      @mention - re: &quot;lack of #SXSW newsworthy announcements&quot;. Unless you count Google Circles. :) #googlecircles   \n",
       "1366                                                                        @mention - spread the word, our #SXSW festival explorer App is live and free {link}   \n",
       "1369                                        @mention --&gt; RT @mention New #UberSocial for #iPhone now in the App Store includes UberGuide to #SXSW ... {link}   \n",
       "1370                                      @mention -&gt; RT @mention New #UberSocial for #iPhone now in the App Store includes UberGuide to #SXSW (cont) {link}   \n",
       "1379                                                   At Google, 4 people do the work of 7 people rather than 7 people doing the work of 4. #agileagency #SXSW   \n",
       "1458                                                                                                       OH SNAP!!!!  At an 80s party hosted by Google! #sxsw   \n",
       "1508                                                                                                                     The world's largest iPad. #sxsw {link}   \n",
       "1514                                                                            Google 80's party at Maggie Maes #Sxsw... Got some free glow in the dark shades   \n",
       "1533                                              Get (down)loaded Hoot! - RT #HootSuite Mobile for #SXSW ~ Updates for iPhone, BlackBerry &amp; Android {link}   \n",
       "1537                                                                          @mention @mention  Google Circles will be their new social media site? Wow. #SXSW   \n",
       "1596                                      @mention @mention I'm reading your book on my flight to #SXSW and the guy next to me is reading it on the iPad. BOOM!   \n",
       "1626                                   @mention @mention saw this morning that Google Circles would start rollout at #sxsw - not holding breath but open-minded   \n",
       "1740                                                                                                      Free for #SXSW: fluffertraX Radio #iPhone app--{link}   \n",
       "1803                              The new #4sq3 looks like it is going to rock. Update for iPhone and Android should push tonight {link} #SXSW #KeepAustinWeird   \n",
       "1805                     #sxsw: #15slides: Gruber: keeps on desk Apple Extended Keyboard 2 (discontinued in 1991, $169). Loud. But feels like he writes better.   \n",
       "1813                                   3rd time a charm? All about privacy! RT @mention Google to Launch New Social Network, Circles, maybe today? {link} #sxsw   \n",
       "1903                   @mention After #SXSW I will never again take a fully charged IPhone for granted; 24/7 pics edit tweet 4square apps =zap! &lt;Good 2 kno!   \n",
       "1954                                                              Monthly value of user iOS $9.50. Android $7.20. Utility apps most valuable. #sxswEisner #sxsw   \n",
       "1962                                                                                 Holler Gram for iPad on the iTunes App Store -  {link} (via @mention #sxsw   \n",
       "1985                                                                   @mention and @mention saying hi at #sxsw with their new iPhone cases! #zazzlesxsw {link}   \n",
       "2015                                                                                                #sxsw  thanks for the ever present iPhone barging tables...   \n",
       "2018                     Google plans to bring &quot;The Power of Here&quot; to life in the future by linking the digital and the physical worlds. {link} #sxsw   \n",
       "2059                                                                    Line for Apple's iPad 2 popup store is already wrapping around the block. #SXSW  {link}   \n",
       "2079                                     Share, share and share some more. #Posterous Joins The #SXSW Pile On With Posterous Events For iPhone {link} #socmedia   \n",
       "2152                                                                          The band at the Google party is the most entertaining band I have ever seen #sxsw   \n",
       "2202                     Android may be gaining market share, but you'd never know it at #sxsw. Apparently our industry movers and shakers are Apple loyalists.   \n",
       "2228                  Marissa Mayer: Check-ins are fun but what do you get from them?  Thats why google is testing loyalty offers.  Watch out foursquare. #sxsw   \n",
       "2258                                                                           @mention be sure to use our FREE App for checking out the bands at #SXSW! {link}   \n",
       "2262                        Enjoying Berkowitz talk about RFID and NCF...impact on mobile, retail. Would you carry a NFC phone? Google bullish #sxsw ballroom E   \n",
       "2304                                      &quot;...by the law of averages, better than Buzz&quot; RT @mention &quot;Google Circles will be ______ &quot;  #sxsw   \n",
       "2326                                                     Music: Location, mobile recording, meet @mention - #ios and #android updates in time for #sxsw. {link}   \n",
       "2440                                                             This could be the first big news out of #sxsw... {link}  Google building new social framework.   \n",
       "2444                                                 Unexpected bonus of waking up at 4am to make #SXSW flight: being up to order iPad 2 right as it's released   \n",
       "2447                                                                               Near Field Communication already here on android phones. #SXSW #bemyneighbor   \n",
       "2468                                 UBER BRAND SMART: Gonna move a ton of iPad2 - #Apple opening a popup shop in Austin for #SxSW  {link} via@mention @mention   \n",
       "2493                                               First ipad2 sighting at #SXSW interactive - infact everyone has at least 1 Apple product in use at all times   \n",
       "2512                                         Getting ideas at #SXSW? Save them on your iPad using Action Lists. True to GTD, syncs w/ iPhone &amp; web.\\n{link}   \n",
       "2543                                            So every DJ at #SXSW now spins with an iPad as part of their arsenal. The future is coming. No wait, it's here.   \n",
       "2566                                     Our friends at @mention finally &quot;put out&quot; for Android. Get their app &amp; get your disc on during #sxsw ^KH   \n",
       "2572                                                                                  That sounds...fantastic. RT @mention At the Google party...awesome. #SXSW   \n",
       "2596                                                         Only white #ipad2 64gig wifi available at #Austin #SXSW #Apple popup store right now, but no wait!   \n",
       "2657                                                           Got in the Google party not before being interviewed by Twit TV, finally ran into @mention #sxsw   \n",
       "2709                                if you are ready to take your tech geekdom to a whole new level at #sxsw you will need the Twitter or Google hi-tops {link}   \n",
       "2715                                                                                                 Did anyone see/visit  the temporary Apple Store at #SXSW ?   \n",
       "2753                                                                                                     I love the waves!!!!!! {link} iPad Webber #japan #sxsw   \n",
       "2766                                                                                          Cover time! #sxsw (@mention Apple Store, SXSW w/ 9 others) {link}   \n",
       "2832                                                                              Just passed the Apple store.. On 6th.. Easily 150 folks in line #SXSW  {link}   \n",
       "2833                                                                                   Just joined the heaving river flow into see Marissa Mayer (Google) #sxsw   \n",
       "2835                            Was shocked to see Google showcasing Blogger at #SXSW - thought they completely forgot about that service - or is that just me?   \n",
       "2854                                                                                                       Already seeing a heavy iPad 2 presence at #sxsw #duh   \n",
       "2874                     Great panel w/guys fr @mention @mention @mention &amp; google hotpot! Social recs def not the end for recs. #discotalk #sxsw #sloanxsw   \n",
       "2904                #SXSW attendees - need one of the best QR scanner/creators on your iPhone? Send us a pic of a QR code you found for a free copy of Optiscan   \n",
       "2960                                              Badger @mention on Angel News #sxsw {link} - nice one. Also we're giving away a free iPad 2 - {link} #contest   \n",
       "2975                                        Wow! RT@mention We interrupt your regularly scheduled #sxsw geek programming with big news {link}  #google #circles   \n",
       "2983                                                        Maybe someone that gets the #ipad2 at #SXSW will hand me their old iPad instead of throwing it away   \n",
       "2985                                                         Google+Deep Eddy Sweet Tea vodka+ GSDM cool factor #SXSW (@mention GSD&amp;M w/ 120 others) {link}   \n",
       "3020                                                                            Apple offers original iPad donation program {link} #entry #friends #house #sxsw   \n",
       "3034                                                                                Free iTunes Album, #SXSW Featured Artists, grab it if you missed it: {link}   \n",
       "3134                                                                                    Imagine if every company had the 20% concept like Google. #bavcID #SXSW   \n",
       "3179                                                           No ipad2 for me. Now I have 3 weeks w no iPad since I gave to @mention for #sxsw!! Withdrawal!!!   \n",
       "3224                            So the big buzz this year at #SXSW, iPad 2, of course, and Group chat/text services like Group Me or Yobongo. Now you know. #fb   \n",
       "3267                        Food4Thought...juxtaposed on my iPad #SXSW is rocking; Lybian rebels are thwarted; it's a GORGEOUS day in LA &amp; Japan is reeling   \n",
       "\n",
       "     Brand/Product           Emotion  \n",
       "46             NaN  Positive emotion  \n",
       "112            NaN  Positive emotion  \n",
       "131            NaN  Positive emotion  \n",
       "157            NaN  Positive emotion  \n",
       "337            NaN  Positive emotion  \n",
       "386            NaN  Positive emotion  \n",
       "440            NaN  Positive emotion  \n",
       "500            NaN  Positive emotion  \n",
       "555            NaN  Positive emotion  \n",
       "559            NaN  Positive emotion  \n",
       "585            NaN  Positive emotion  \n",
       "598            NaN  Positive emotion  \n",
       "611            NaN  Positive emotion  \n",
       "619            NaN  Positive emotion  \n",
       "626            NaN  Positive emotion  \n",
       "639            NaN  Positive emotion  \n",
       "646            NaN  Positive emotion  \n",
       "662            NaN  Positive emotion  \n",
       "666            NaN  Positive emotion  \n",
       "682            NaN  Positive emotion  \n",
       "730            NaN  Positive emotion  \n",
       "783            NaN  Positive emotion  \n",
       "788            NaN  Positive emotion  \n",
       "805            NaN  Positive emotion  \n",
       "867            NaN  Positive emotion  \n",
       "879            NaN  Positive emotion  \n",
       "886            NaN  Positive emotion  \n",
       "962            NaN  Positive emotion  \n",
       "1010           NaN  Positive emotion  \n",
       "1063           NaN  Positive emotion  \n",
       "1066           NaN  Positive emotion  \n",
       "1089           NaN  Positive emotion  \n",
       "1092           NaN  Positive emotion  \n",
       "1273           NaN  Positive emotion  \n",
       "1282           NaN  Positive emotion  \n",
       "1286           NaN  Positive emotion  \n",
       "1337           NaN  Positive emotion  \n",
       "1352           NaN  Positive emotion  \n",
       "1365           NaN  Positive emotion  \n",
       "1366           NaN  Positive emotion  \n",
       "1369           NaN  Positive emotion  \n",
       "1370           NaN  Positive emotion  \n",
       "1379           NaN  Positive emotion  \n",
       "1458           NaN  Positive emotion  \n",
       "1508           NaN  Positive emotion  \n",
       "1514           NaN  Positive emotion  \n",
       "1533           NaN  Positive emotion  \n",
       "1537           NaN  Positive emotion  \n",
       "1596           NaN  Positive emotion  \n",
       "1626           NaN  Positive emotion  \n",
       "1740           NaN  Positive emotion  \n",
       "1803           NaN  Positive emotion  \n",
       "1805           NaN  Positive emotion  \n",
       "1813           NaN  Positive emotion  \n",
       "1903           NaN  Positive emotion  \n",
       "1954           NaN  Positive emotion  \n",
       "1962           NaN  Positive emotion  \n",
       "1985           NaN  Positive emotion  \n",
       "2015           NaN  Positive emotion  \n",
       "2018           NaN  Positive emotion  \n",
       "2059           NaN  Positive emotion  \n",
       "2079           NaN  Positive emotion  \n",
       "2152           NaN  Positive emotion  \n",
       "2202           NaN  Positive emotion  \n",
       "2228           NaN  Positive emotion  \n",
       "2258           NaN  Positive emotion  \n",
       "2262           NaN  Positive emotion  \n",
       "2304           NaN  Positive emotion  \n",
       "2326           NaN  Positive emotion  \n",
       "2440           NaN  Positive emotion  \n",
       "2444           NaN  Positive emotion  \n",
       "2447           NaN  Positive emotion  \n",
       "2468           NaN  Positive emotion  \n",
       "2493           NaN  Positive emotion  \n",
       "2512           NaN  Positive emotion  \n",
       "2543           NaN  Positive emotion  \n",
       "2566           NaN  Positive emotion  \n",
       "2572           NaN  Positive emotion  \n",
       "2596           NaN  Positive emotion  \n",
       "2657           NaN  Positive emotion  \n",
       "2709           NaN  Positive emotion  \n",
       "2715           NaN  Positive emotion  \n",
       "2753           NaN  Positive emotion  \n",
       "2766           NaN  Positive emotion  \n",
       "2832           NaN  Positive emotion  \n",
       "2833           NaN  Positive emotion  \n",
       "2835           NaN  Positive emotion  \n",
       "2854           NaN  Positive emotion  \n",
       "2874           NaN  Positive emotion  \n",
       "2904           NaN  Positive emotion  \n",
       "2960           NaN  Positive emotion  \n",
       "2975           NaN  Positive emotion  \n",
       "2983           NaN  Positive emotion  \n",
       "2985           NaN  Positive emotion  \n",
       "3020           NaN  Positive emotion  \n",
       "3034           NaN  Positive emotion  \n",
       "3134           NaN  Positive emotion  \n",
       "3179           NaN  Positive emotion  \n",
       "3224           NaN  Positive emotion  \n",
       "3267           NaN  Positive emotion  "
      ]
     },
     "execution_count": 8,
     "metadata": {},
     "output_type": "execute_result"
    }
   ],
   "source": [
    "df_NaN_pos.head(100)"
   ]
  },
  {
   "cell_type": "markdown",
   "metadata": {},
   "source": [
    "Check any missing values for Tweet column:"
   ]
  },
  {
   "cell_type": "code",
   "execution_count": 9,
   "metadata": {},
   "outputs": [
    {
     "data": {
      "text/plain": [
       "1"
      ]
     },
     "execution_count": 9,
     "metadata": {},
     "output_type": "execute_result"
    }
   ],
   "source": [
    "df['Tweet'].isnull().sum()"
   ]
  },
  {
   "cell_type": "code",
   "execution_count": 10,
   "metadata": {},
   "outputs": [
    {
     "data": {
      "text/html": [
       "<div>\n",
       "<style scoped>\n",
       "    .dataframe tbody tr th:only-of-type {\n",
       "        vertical-align: middle;\n",
       "    }\n",
       "\n",
       "    .dataframe tbody tr th {\n",
       "        vertical-align: top;\n",
       "    }\n",
       "\n",
       "    .dataframe thead th {\n",
       "        text-align: right;\n",
       "    }\n",
       "</style>\n",
       "<table border=\"1\" class=\"dataframe\">\n",
       "  <thead>\n",
       "    <tr style=\"text-align: right;\">\n",
       "      <th></th>\n",
       "      <th>Tweet</th>\n",
       "      <th>Brand/Product</th>\n",
       "      <th>Emotion</th>\n",
       "    </tr>\n",
       "  </thead>\n",
       "  <tbody>\n",
       "    <tr>\n",
       "      <th>6</th>\n",
       "      <td>NaN</td>\n",
       "      <td>NaN</td>\n",
       "      <td>No emotion toward brand or product</td>\n",
       "    </tr>\n",
       "  </tbody>\n",
       "</table>\n",
       "</div>"
      ],
      "text/plain": [
       "  Tweet Brand/Product                             Emotion\n",
       "6   NaN           NaN  No emotion toward brand or product"
      ]
     },
     "execution_count": 10,
     "metadata": {},
     "output_type": "execute_result"
    }
   ],
   "source": [
    "df [df['Tweet'].isna()]"
   ]
  },
  {
   "cell_type": "markdown",
   "metadata": {},
   "source": [
    "We drop this row since it gives us no info"
   ]
  },
  {
   "cell_type": "code",
   "execution_count": 11,
   "metadata": {},
   "outputs": [
    {
     "name": "stdout",
     "output_type": "stream",
     "text": [
      "<class 'pandas.core.frame.DataFrame'>\n",
      "Int64Index: 9092 entries, 0 to 9092\n",
      "Data columns (total 3 columns):\n",
      " #   Column         Non-Null Count  Dtype \n",
      "---  ------         --------------  ----- \n",
      " 0   Tweet          9092 non-null   object\n",
      " 1   Brand/Product  3291 non-null   object\n",
      " 2   Emotion        9092 non-null   object\n",
      "dtypes: object(3)\n",
      "memory usage: 284.1+ KB\n"
     ]
    }
   ],
   "source": [
    "df = df [df['Tweet'].isna() == False] # dropped the column\n",
    "df.info() # check info again"
   ]
  },
  {
   "cell_type": "markdown",
   "metadata": {},
   "source": [
    "We have a lot of missing values in the \"Brand/Product\" column. Alex did the loop to distribute them based on\n",
    "if a product or brand is in each tweet content."
   ]
  },
  {
   "cell_type": "code",
   "execution_count": 12,
   "metadata": {
    "scrolled": false
   },
   "outputs": [],
   "source": [
    "# Assign rows to Brand/Product for the unknown one\n",
    "\n",
    "keywords = ['google', 'apple', 'ipad', 'android', 'iphone']\n",
    "\n",
    "for index, row in df.iterrows():\n",
    "    text = row['Tweet']\n",
    "    if pd.isna(row['Brand/Product']) and isinstance(text, str):\n",
    "        for keyword in keywords:\n",
    "            if keyword in text.lower():\n",
    "                df.at[index, 'Brand/Product'] = keyword\n",
    "                break"
   ]
  },
  {
   "cell_type": "code",
   "execution_count": 13,
   "metadata": {},
   "outputs": [],
   "source": [
    "# fill the rest with Unknown\n",
    "df['Brand/Product'] = df['Brand/Product'].fillna('Unknown')"
   ]
  },
  {
   "cell_type": "code",
   "execution_count": 14,
   "metadata": {},
   "outputs": [
    {
     "data": {
      "text/plain": [
       "Tweet            0\n",
       "Brand/Product    0\n",
       "Emotion          0\n",
       "dtype: int64"
      ]
     },
     "execution_count": 14,
     "metadata": {},
     "output_type": "execute_result"
    }
   ],
   "source": [
    "df.isnull().sum()"
   ]
  },
  {
   "cell_type": "markdown",
   "metadata": {},
   "source": [
    "We handled all missing values. Now we can look into \"Brand/Product\" column and see what are the categroies."
   ]
  },
  {
   "cell_type": "code",
   "execution_count": 15,
   "metadata": {
    "scrolled": true
   },
   "outputs": [
    {
     "data": {
      "text/plain": [
       "google                             0.191377\n",
       "apple                              0.131434\n",
       "ipad                               0.117576\n",
       "iPad                               0.104048\n",
       "Unknown                            0.083700\n",
       "iphone                             0.078091\n",
       "Apple                              0.072701\n",
       "iPad or iPhone App                 0.051694\n",
       "Google                             0.047294\n",
       "android                            0.035856\n",
       "iPhone                             0.032666\n",
       "Other Google product or service    0.032226\n",
       "Android App                        0.008909\n",
       "Android                            0.008579\n",
       "Other Apple product or service     0.003850\n",
       "Name: Brand/Product, dtype: float64"
      ]
     },
     "execution_count": 15,
     "metadata": {},
     "output_type": "execute_result"
    }
   ],
   "source": [
    "df['Brand/Product'].value_counts(normalize = True)"
   ]
  },
  {
   "cell_type": "markdown",
   "metadata": {},
   "source": [
    "\"Brand/products\" column has a lot of similar categories and we can combine most of them togther into 3 groups and add a new column 'Brand' as our feature engineering:\n",
    "\n",
    "    Apple: iPad, ipad, Apple, apple, iPad or iPhone App, iphone, Other Apple product or service \n",
    "    Google: Google, google, Other Google product or service, Android App, Android"
   ]
  },
  {
   "cell_type": "code",
   "execution_count": 16,
   "metadata": {},
   "outputs": [
    {
     "data": {
      "text/plain": [
       "array(['Apple', 'Google', 'Unknown'], dtype=object)"
      ]
     },
     "execution_count": 16,
     "metadata": {},
     "output_type": "execute_result"
    }
   ],
   "source": [
    "#mapping products to brands\n",
    "brand_dict={'iPad': 'Apple', 'iPad or iPhone App': 'Apple', 'iPhone': 'Apple', \n",
    "            'Other Google product or service': 'Google', 'Unknown': 'Unknown',\n",
    "            'Android': 'Google', 'Android App': 'Google',\n",
    "            'Other Apple product or service': 'Apple',\n",
    "           'Apple':'Apple',\n",
    "           'Google': 'Google',\n",
    "           'apple':'Apple',\n",
    "           'google': 'Google',\n",
    "           'ipad':'Apple',\n",
    "           'android':'Google',\n",
    "           'iphone':'Apple'}\n",
    "df['Brand'] = df['Brand/Product'].map(brand_dict)\n",
    "df['Brand'].unique()"
   ]
  },
  {
   "cell_type": "code",
   "execution_count": 17,
   "metadata": {},
   "outputs": [
    {
     "data": {
      "text/plain": [
       "Apple      0.592059\n",
       "Google     0.324241\n",
       "Unknown    0.083700\n",
       "Name: Brand, dtype: float64"
      ]
     },
     "execution_count": 17,
     "metadata": {},
     "output_type": "execute_result"
    }
   ],
   "source": [
    "df['Brand'].value_counts(normalize = True)"
   ]
  },
  {
   "cell_type": "markdown",
   "metadata": {},
   "source": [
    "Clean Emotion Column"
   ]
  },
  {
   "cell_type": "code",
   "execution_count": 18,
   "metadata": {
    "scrolled": true
   },
   "outputs": [
    {
     "data": {
      "text/plain": [
       "No emotion toward brand or product    5388\n",
       "Positive emotion                      2978\n",
       "Negative emotion                       570\n",
       "I can't tell                           156\n",
       "Name: Emotion, dtype: int64"
      ]
     },
     "execution_count": 18,
     "metadata": {},
     "output_type": "execute_result"
    }
   ],
   "source": [
    "df['Emotion'].value_counts()"
   ]
  },
  {
   "cell_type": "markdown",
   "metadata": {},
   "source": [
    "After some investigations, we decided to assign no emotion to neutral, and drop the I can't tell, and shorten the other two to \"Positive\" and \"Negative\""
   ]
  },
  {
   "cell_type": "code",
   "execution_count": 19,
   "metadata": {},
   "outputs": [],
   "source": [
    "emotion_dict={'No emotion toward brand or product': 'Neutral', \n",
    "              'Positive emotion': 'Positive',\n",
    "              'Negative emotion': 'Negative'}\n",
    "df['Emotion'] = df['Emotion'].map(emotion_dict)"
   ]
  },
  {
   "cell_type": "code",
   "execution_count": 20,
   "metadata": {},
   "outputs": [
    {
     "data": {
      "text/plain": [
       "Neutral     5388\n",
       "Positive    2978\n",
       "Negative     570\n",
       "Name: Emotion, dtype: int64"
      ]
     },
     "execution_count": 20,
     "metadata": {},
     "output_type": "execute_result"
    }
   ],
   "source": [
    "df['Emotion'].value_counts() #checking emotion distribution"
   ]
  },
  {
   "cell_type": "code",
   "execution_count": 21,
   "metadata": {},
   "outputs": [
    {
     "data": {
      "text/plain": [
       "156"
      ]
     },
     "execution_count": 21,
     "metadata": {},
     "output_type": "execute_result"
    }
   ],
   "source": [
    "df['Emotion'].isnull().sum()"
   ]
  },
  {
   "cell_type": "code",
   "execution_count": 22,
   "metadata": {},
   "outputs": [
    {
     "data": {
      "text/plain": [
       "Neutral     5388\n",
       "Positive    2978\n",
       "Negative     570\n",
       "Name: Emotion, dtype: int64"
      ]
     },
     "execution_count": 22,
     "metadata": {},
     "output_type": "execute_result"
    }
   ],
   "source": [
    "df['Emotion'].value_counts()"
   ]
  },
  {
   "cell_type": "code",
   "execution_count": 25,
   "metadata": {},
   "outputs": [],
   "source": [
    "# Drop NaN in the emotion column\n",
    "df.dropna(subset = [\"Emotion\"], inplace = True)"
   ]
  },
  {
   "cell_type": "markdown",
   "metadata": {},
   "source": [
    "We have handled missing values per column, cleaned the emotion column, and created a column for brand: Apple, Google, and Unknown"
   ]
  },
  {
   "cell_type": "markdown",
   "metadata": {},
   "source": [
    "# Basic EDA: Looking to how emotions distribute for Apple and Google."
   ]
  },
  {
   "cell_type": "markdown",
   "metadata": {},
   "source": [
    "Looking at tweet emotion distribution/percentage for Apple."
   ]
  },
  {
   "cell_type": "code",
   "execution_count": 31,
   "metadata": {},
   "outputs": [
    {
     "data": {
      "text/plain": [
       "2128"
      ]
     },
     "execution_count": 31,
     "metadata": {},
     "output_type": "execute_result"
    }
   ],
   "source": [
    "Apple_Pos_Count = len (df [(df['Brand'] == 'Apple') & (df['Emotion'] == 'Positive') ])\n",
    "Apple_Pos_Count"
   ]
  },
  {
   "cell_type": "code",
   "execution_count": 32,
   "metadata": {},
   "outputs": [
    {
     "data": {
      "text/plain": [
       "417"
      ]
     },
     "execution_count": 32,
     "metadata": {},
     "output_type": "execute_result"
    }
   ],
   "source": [
    "Apple_Neg_Count = len (df [(df['Brand'] == 'Apple') & (df['Emotion'] == 'Negative') ])\n",
    "Apple_Neg_Count"
   ]
  },
  {
   "cell_type": "code",
   "execution_count": 33,
   "metadata": {},
   "outputs": [
    {
     "data": {
      "text/plain": [
       "2743"
      ]
     },
     "execution_count": 33,
     "metadata": {},
     "output_type": "execute_result"
    }
   ],
   "source": [
    "Apple_Neu_Count = len (df [(df['Brand'] == 'Apple') & (df['Emotion'] == 'Neutral') ])\n",
    "Apple_Neu_Count"
   ]
  },
  {
   "cell_type": "code",
   "execution_count": 34,
   "metadata": {},
   "outputs": [],
   "source": [
    "Apple_total = Apple_Pos_Count + Apple_Neg_Count + Apple_Neu_Count"
   ]
  },
  {
   "cell_type": "code",
   "execution_count": 35,
   "metadata": {},
   "outputs": [
    {
     "data": {
      "text/plain": [
       "0.40242057488653554"
      ]
     },
     "execution_count": 35,
     "metadata": {},
     "output_type": "execute_result"
    }
   ],
   "source": [
    "Apple_Pos_percent = Apple_Pos_Count / Apple_total\n",
    "Apple_Pos_percent"
   ]
  },
  {
   "cell_type": "code",
   "execution_count": 36,
   "metadata": {},
   "outputs": [
    {
     "data": {
      "text/plain": [
       "0.07885779122541603"
      ]
     },
     "execution_count": 36,
     "metadata": {},
     "output_type": "execute_result"
    }
   ],
   "source": [
    "Apple_Neg_percent = Apple_Neg_Count / Apple_total\n",
    "Apple_Neg_percent"
   ]
  },
  {
   "cell_type": "code",
   "execution_count": 37,
   "metadata": {},
   "outputs": [
    {
     "data": {
      "text/plain": [
       "0.5187216338880484"
      ]
     },
     "execution_count": 37,
     "metadata": {},
     "output_type": "execute_result"
    }
   ],
   "source": [
    "Apple_Neu_percent = Apple_Neu_Count / Apple_total\n",
    "Apple_Neu_percent"
   ]
  },
  {
   "cell_type": "markdown",
   "metadata": {},
   "source": [
    "Now we can plot the distribution for tweet emotion for Apple"
   ]
  },
  {
   "cell_type": "code",
   "execution_count": 38,
   "metadata": {},
   "outputs": [
    {
     "data": {
      "text/plain": [
       "[0.40242057488653554, 0.07885779122541603, 0.5187216338880484]"
      ]
     },
     "execution_count": 38,
     "metadata": {},
     "output_type": "execute_result"
    }
   ],
   "source": [
    "Apple_Emotion_Dist = [Apple_Pos_percent, Apple_Neg_percent, Apple_Neu_percent]\n",
    "Apple_Emotion_Dist"
   ]
  },
  {
   "cell_type": "code",
   "execution_count": 39,
   "metadata": {},
   "outputs": [],
   "source": [
    "Emotion = ['Positive', 'Negative', 'Neutral']"
   ]
  },
  {
   "cell_type": "code",
   "execution_count": 40,
   "metadata": {},
   "outputs": [
    {
     "data": {
      "image/png": "[encoded data removed]",
      "text/plain": [
       "<Figure size 432x288 with 1 Axes>"
      ]
     },
     "metadata": {
      "needs_background": "light"
     },
     "output_type": "display_data"
    }
   ],
   "source": [
    "ax = sns.barplot(x = Emotion, y = Apple_Emotion_Dist)\n",
    "plt.title('Tweet Emotion Distribution for Apple Products')\n",
    "plt.xlabel('Sentiment')\n",
    "plt.ylabel('Percentage of Apple Tweets')\n",
    "\n",
    "for i, v in enumerate(Apple_Emotion_Dist):\n",
    "    ax.text(i, v, format(v, '.3f'), ha='center', va='bottom')"
   ]
  },
  {
   "cell_type": "markdown",
   "metadata": {},
   "source": [
    "Most tweets regarding to Apple products are neutral (51.9%), follow by positive (40.2%), and negative (7.9%). \n",
    "\n",
    "Almost more than half of the tweets have neutral sentiments.\n",
    "\n",
    "To futher investigate, we will use WordCloud in the EDA notebook to what words occur most frequently among the three sentiments to discover some info about the texts to get more insights about what Apple is doing good, and what needs to improve."
   ]
  },
  {
   "cell_type": "markdown",
   "metadata": {},
   "source": [
    "Next, we can do the same for Google.\n",
    "1. Find the positive review counts, negative counts, and neutral counts\n",
    "2. Sum them out\n",
    "3. Find the percentages for each emotion. Make a list Google_Emotion_Dist.\n",
    "4. Visualize distribution."
   ]
  },
  {
   "cell_type": "code",
   "execution_count": 41,
   "metadata": {},
   "outputs": [],
   "source": [
    "Google_Pos_Count = len (df [(df['Brand'] == 'Google') & (df['Emotion'] == 'Positive') ])\n",
    "Google_Neg_Count = len (df [(df['Brand'] == 'Google') & (df['Emotion'] == 'Negative') ])\n",
    "Google_Neu_Count = len (df [(df['Brand'] == 'Google') & (df['Emotion'] == 'Neutral') ])\n",
    "Google_total = Google_Pos_Count + Google_Neg_Count + Google_Neu_Count\n",
    "Google_Pos_percent = Google_Pos_Count / Google_total\n",
    "Google_Neg_percent = Google_Neg_Count / Google_total\n",
    "Google_Neu_percent = Google_Neu_Count / Google_total\n"
   ]
  },
  {
   "cell_type": "code",
   "execution_count": 42,
   "metadata": {},
   "outputs": [
    {
     "data": {
      "text/plain": [
       "[0.28931904597303837, 0.05254061527825787, 0.6581403387487038]"
      ]
     },
     "execution_count": 42,
     "metadata": {},
     "output_type": "execute_result"
    }
   ],
   "source": [
    "Google_Emotion_Dist = [Google_Pos_percent, Google_Neg_percent, Google_Neu_percent]\n",
    "Google_Emotion_Dist"
   ]
  },
  {
   "cell_type": "code",
   "execution_count": 43,
   "metadata": {},
   "outputs": [
    {
     "data": {
      "image/png": "[encoded data removed]",
      "text/plain": [
       "<Figure size 432x288 with 1 Axes>"
      ]
     },
     "metadata": {
      "needs_background": "light"
     },
     "output_type": "display_data"
    }
   ],
   "source": [
    "ax = sns.barplot(x = Emotion, y = Google_Emotion_Dist)\n",
    "plt.title('Tweet Emotion Distribution for Google Products')\n",
    "plt.xlabel('Sentiment')\n",
    "plt.ylabel('Percentage of Google Tweets')\n",
    "\n",
    "for i, v in enumerate(Google_Emotion_Dist):\n",
    "    ax.text(i, v, format(v, '.3f'), ha='center', va='bottom')\n"
   ]
  },
  {
   "cell_type": "markdown",
   "metadata": {},
   "source": [
    "For Google products, positive sentiments are 28.9%, negatives are 5.3%, and neutral are 65.8%."
   ]
  },
  {
   "cell_type": "markdown",
   "metadata": {},
   "source": [
    "Overall it seems like Apple has greater percentage of positive tweets than Google has. (40.2% vs. 28.9%)\n",
    "Apple also has less neutral tweets than Google has. (51.9% vs 65.8%)\n"
   ]
  },
  {
   "cell_type": "code",
   "execution_count": 44,
   "metadata": {},
   "outputs": [],
   "source": [
    "# Save the cleaned df to a new dataset\n",
    "# df.to_csv('./Data/Cleaned_tweet_dataset.csv')"
   ]
  }
 ],
 "metadata": {
  "kernelspec": {
   "display_name": "Python (learn-env)",
   "language": "python",
   "name": "learn-env"
  },
  "language_info": {
   "codemirror_mode": {
    "name": "ipython",
    "version": 3
   },
   "file_extension": ".py",
   "mimetype": "text/x-python",
   "name": "python",
   "nbconvert_exporter": "python",
   "pygments_lexer": "ipython3",
   "version": "3.8.5"
  }
 },
 "nbformat": 4,
 "nbformat_minor": 2
}
